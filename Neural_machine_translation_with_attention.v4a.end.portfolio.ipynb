{
 "cells": [
  {
   "cell_type": "markdown",
   "metadata": {},
   "source": [
    "<div style=\"padding: 15px; \n",
    "            color: #FFC07F; \n",
    "            margin: 15px; \n",
    "            font-size: 1.5em; \n",
    "            display: fill; \n",
    "            border-radius: 10px; \n",
    "            border: 2px solid #FF9F00; \n",
    "            background-color: #2F2E41; \n",
    "            overflow: hidden; \n",
    "            box-shadow: 0 4px 8px rgba(0, 0, 0, 0.3);\">\n",
    "    <center>\n",
    "        <a id=\"title\"></a>\n",
    "        <b style=\"font-size: 1.8em; color: #FFC07F;\">Neural Machine Translation</b><br><br>\n",
    "        <a id=\"top\"></a>\n",
    "        <b style=\"font-size: 1.4em; color: #FFC07F;\">Table of Contents</b>\n",
    "    </center>\n",
    "    <br>\n",
    "    <ul style=\"list-style-type: none; padding-left: 0;\">\n",
    "        <ul style=\"list-style-type: none; padding-left: 0;\">\n",
    "            <li style=\"padding: 8px 0;\">\n",
    "                <a href=\"#1\" style=\"color: #FFCC66; text-decoration: none;\">1 - Overview</a>\n",
    "            </li>\n",
    "            <ul style=\"list-style-type: none; padding-left: 20px;\">\n",
    "                <li style=\"padding: 8px 0;\">\n",
    "                    <a href=\"#1-1\" style=\"color: #FFCC66; text-decoration: none; font-weight: normal; font-size: 16px;\">1.1. Neural Machine Translation</a>\n",
    "                </li>\n",
    "                <li style=\"padding: 8px 0;\">\n",
    "                    <a href=\"#1-2\" style=\"color: #FFCC66; text-decoration: none; font-weight: normal; font-size: 16px;\">1.2. Overview</a>\n",
    "                </li>\n",
    "            </ul>\n",
    "        </ul>\n",
    "        <li style=\"padding: 8px 0;\">\n",
    "            <a href=\"#2\" style=\"color: #FFCC66; text-decoration: none;\">2 - Imports</a>\n",
    "        </li>\n",
    "        <ul style=\"list-style-type: none; padding-left: 0;\">\n",
    "            <li style=\"padding: 8px 0;\">\n",
    "                <a href=\"#3\" style=\"color: #FFCC66; text-decoration: none;\">3 - Data Preparation</a>\n",
    "            </li>\n",
    "            <ul style=\"list-style-type: none; padding-left: 20px;\">\n",
    "                <li style=\"padding: 8px 0;\">\n",
    "                    <a href=\"#3-1\" style=\"color: #FFCC66; text-decoration: none; font-weight: normal; font-size: 16px;\">3.1. Translating Human-Readable Dates into Machine-Readable Dates</a>\n",
    "                </li>\n",
    "                <li style=\"padding: 8px 0;\">\n",
    "                    <a href=\"#3-2\" style=\"color: #FFCC66; text-decoration: none; font-weight: normal; font-size: 16px;\">3.2. Dataset Overview</a>\n",
    "                </li>\n",
    "                <li style=\"padding: 8px 0;\">\n",
    "                    <a href=\"#3-3\" style=\"color: #FFCC66; text-decoration: none; font-weight: normal; font-size: 16px;\">3.3. Dataset Preprocessing</a>\n",
    "                </li>  \n",
    "            </ul>\n",
    "        </ul>\n",
    "        <ul style=\"list-style-type: none; padding-left: 0;\">\n",
    "            <li style=\"padding: 8px 0;\">\n",
    "                <a href=\"#4\" style=\"color: #FFCC66; text-decoration: none;\">4. Building the model</a>\n",
    "            </li>\n",
    "            <ul style=\"list-style-type: none; padding-left: 20px;\">\n",
    "                <li style=\"padding: 8px 0;\">\n",
    "                    <a href=\"#4-1\" style=\"color: #FFCC66; text-decoration: none; font-weight: normal; font-size: 16px;\">4.1. Neural Machine Translation with Attention</a>\n",
    "                </li>\n",
    "                <ul style=\"list-style-type: none; padding-left: 0px;\">\n",
    "                    <li style=\"padding: 8px 0;\">\n",
    "                        <a href=\"#4-2\" style=\"color: #FFCC66; text-decoration: none; font-weight: normal; font-size: 16px;\">4-2. Attention Mechanism</a>\n",
    "                    </li>\n",
    "                    <ul style=\"list-style-type: none; padding-left: 10px;\">\n",
    "                        <li style=\"padding: 8px 0;\">\n",
    "                            <a href=\"#4-2-1\" style=\"color: #FFCC66; text-decoration: none; font-weight: normal; font-size: 14px;\">4.2.1. Pre-attention and Post-attention LSTMs</a>\n",
    "                        </li>\n",
    "                        <li style=\"padding: 8px 0;\">\n",
    "                            <a href=\"#4-2-2\" style=\"color: #FFCC66; text-decoration: none; font-weight: normal; font-size: 14px;\">4.2.2. LSTM States: Hidden State and Cell State</a>\n",
    "                        </li>\n",
    "                        <li style=\"padding: 8px 0;\">\n",
    "                            <a href=\"#4-2-3\" style=\"color: #FFCC66; text-decoration: none; font-weight: normal; font-size: 14px;\">4.2.3. No Dependency on Previous Time Step Predictionse</a>\n",
    "                        </li>\n",
    "                        <li style=\"padding: 8px 0;\">\n",
    "                            <a href=\"#4-2-4\" style=\"color: #FFCC66; text-decoration: none; font-weight: normal; font-size: 14px;\">4.2.4. Concatenation of Hidden States from the Forward and Backward Pre-attention LSTMs</a>\n",
    "                        </li>\n",
    "                        <li style=\"padding: 8px 0;\">\n",
    "                            <a href=\"#4-2-5\" style=\"color: #FFCC66; text-decoration: none; font-weight: normal; font-size: 14px;\">4.2.5. Computing \"Energies\"</a>\n",
    "                        </li>\n",
    "                    </ul>\n",
    "                </ul>\n",
    "                <ul style=\"list-style-type: none; padding-left: 0px;\">\n",
    "                    <li style=\"padding: 8px 0;\">\n",
    "                        <a href=\"#4-3\" style=\"color: #FFCC66; text-decoration: none; font-weight: normal; font-size: 16px;\">4.3. Implementation Details</a>\n",
    "                    </li>\n",
    "                    <ul style=\"list-style-type: none; padding-left: 10px;\">\n",
    "                        <li style=\"padding: 8px 0;\">\n",
    "                            <a href=\"#4-3-1\" style=\"color: #FFCC66; text-decoration: none; font-weight: normal; font-size: 14px;\">4.3.1. one_step_attention</a>\n",
    "                        </li>\n",
    "                        <li style=\"padding: 8px 0;\">\n",
    "                            <a href=\"#4-3-2\" style=\"color: #FFCC66; text-decoration: none; font-weight: normal; font-size: 14px;\">4.3.2. Implementing `modelf()`</a>\n",
    "                        </li>\n",
    "                        <li style=\"padding: 8px 0;\">\n",
    "                            <a href=\"#4-3-3\" style=\"color: #FFCC66; text-decoration: none; font-weight: normal; font-size: 14px;\">4.3.3. Model Compilation</a>\n",
    "                        </li>\n",
    "                    </ul>\n",
    "                </ul>    \n",
    "            </ul>\n",
    "        </ul>\n",
    "        <ul style=\"list-style-type: none; padding-left: 0;\">\n",
    "            <li style=\"padding: 8px 0;\">\n",
    "                <a href=\"#5\" style=\"color: #FFCC66; text-decoration: none;\">5. Training the model</a>\n",
    "            </li>\n",
    "            <ul style=\"list-style-type: none; padding-left: 20px;\">\n",
    "                <li style=\"padding: 8px 0;\">\n",
    "                    <a href=\"#5-1\" style=\"color: #FFCC66; text-decoration: none; font-weight: normal; font-size: 16px;\">5.1. Define Inputs and Outputs, and Fit the Model</a>\n",
    "                </li>\n",
    "            </ul>\n",
    "        </ul>\n",
    "        <ul style=\"list-style-type: none; padding-left: 0;\">\n",
    "            <li style=\"padding: 8px 0;\">\n",
    "                <a href=\"#6\" style=\"color: #FFCC66; text-decoration: none;\">6. Visualizing Attention </a>\n",
    "            </li>\n",
    "            <ul style=\"list-style-type: none; padding-left: 20px;\">\n",
    "                <li style=\"padding: 8px 0;\">\n",
    "                    <a href=\"#6-1\" style=\"color: #FFCC66; text-decoration: none; font-weight: normal; font-size: 16px;\">6.1 - Extracting the Attention Weights from the Network</a>\n",
    "                </li>\n",
    "            </ul>\n",
    "        </ul>\n",
    "        <li style=\"padding: 8px 0;\">\n",
    "            <a href=\"#7\" style=\"color: #FFCC66; text-decoration: none;\">7. Conclusion</a>\n",
    "        </li>\n",
    "    </ul>\n",
    "</div>"
   ]
  },
  {
   "cell_type": "markdown",
   "metadata": {},
   "source": [
    "<div style=\"display: flex; flex-direction: column; align-items: center; gap: 10px; margin-bottom: 20px;\">\n",
    "    <a href=\"mailto:umermjd11@gmail.com\" target=\"_blank\"><img src=\"https://img.shields.io/badge/Email-umermjd11@gmail.com-informational?style=for-the-badge&logo=gmail&logoColor=white&color=FF5722\" alt=\"Email Shield\"></a>\n",
    "    <a href=\"https://umermjd11.github.io/\" target=\"_blank\"><img src=\"https://img.shields.io/badge/Website-umermjd11.github.com-2F2E41?style=for-the-badge&logo=google-chrome&logoColor=white\" alt=\"Website Shield\"></a>\n",
    "    <a href=\"https://github.com/umermjd11\" target=\"_blank\"><img src=\"https://img.shields.io/badge/GitHub-umermjd11-181717?style=for-the-badge&logo=github&logoColor=white\" alt=\"GitHub Shield\"></a>\n",
    "    <a href=\"https://kaggle.com/umermjd11\" target=\"_blank\"><img src=\"https://img.shields.io/badge/Kaggle-umermjd11-20BEFF?style=for-the-badge&logo=kaggle&logoColor=white\" alt=\"Kaggle Shield\"></a>\n",
    "    <a href=\"https://linkedin.com/in/umermjd11\" target=\"_blank\"><img src=\"https://img.shields.io/badge/LinkedIn-umermjd11-blue?style=for-the-badge&logo=linkedin&logoColor=white\" alt=\"LinkedIn Shield\"></a>\n",
    "</div>\n"
   ]
  },
  {
   "cell_type": "markdown",
   "metadata": {},
   "source": [
    "<a id=\"1\"></a>\n",
    "<h1 style=\"background: #FFC07F; border: 0; color: #2F2E41; \n",
    "    box-shadow: 4px 4px 8px rgba(0, 0, 0, 0.3); \n",
    "    padding: 10px; border-radius: 10px; margin: 15px 0;\">\n",
    "    <center style=\"color: #2F2E41;\">1 - Overview</center>\n",
    "</h1>"
   ]
  },
  {
   "cell_type": "markdown",
   "metadata": {},
   "source": [
    "<a id=\"1.1\"></a>\n",
    "\n",
    "## 1.1. Neural Machine Translation\n",
    "\n",
    "In this section, we explore the development of a Neural Machine Translation (NMT) model designed to translate human-readable dates (e.g., \"25th of June, 2009\") into machine-readable formats (e.g., \"2009-06-25\"). The methodology centers on an attention-based model, a robust approach within sequence-to-sequence architectures.\n",
    "\n",
    "## 1.2. Overview\n",
    "\n",
    "Our objective is to leverage an attention mechanism to enable accurate translation between these date formats. Attention models, particularly within the sequence-to-sequence framework, enhance performance by dynamically focusing on relevant parts of the input sequence, improving the model's ability to handle complex language structures and dependencies. This approach builds on advances in neural translation developed in collaboration with NVIDIA's Deep Learning Institute.\n"
   ]
  },
  {
   "cell_type": "markdown",
   "metadata": {},
   "source": [
    "<a id=\"2\"></a>\n",
    "<h1 style=\"background: #FFC07F; border: 0; color: #2F2E41; \n",
    "    box-shadow: 4px 4px 8px rgba(0, 0, 0, 0.3); \n",
    "    padding: 10px; border-radius: 10px; margin: 15px 0;\">\n",
    "    <center style=\"color: #2F2E41;\">2. Imports</center>\n",
    "</h1>"
   ]
  },
  {
   "cell_type": "code",
   "execution_count": 5,
   "metadata": {},
   "outputs": [],
   "source": [
    "%load_ext autoreload\n",
    "%autoreload 2"
   ]
  },
  {
   "cell_type": "code",
   "execution_count": 4,
   "metadata": {},
   "outputs": [],
   "source": [
    "from tensorflow.keras.layers import Bidirectional, Concatenate, Permute, Dot, Input, LSTM, Multiply\n",
    "from tensorflow.keras.layers import RepeatVector, Dense, Activation, Lambda\n",
    "from tensorflow.keras.optimizers import Adam\n",
    "from tensorflow.keras.utils import to_categorical\n",
    "from tensorflow.keras.models import load_model, Model\n",
    "import tensorflow.keras.backend as K\n",
    "import tensorflow as tf\n",
    "import numpy as np\n",
    "\n",
    "from faker import Faker  # Faker library to generate synthetic data\n",
    "import random\n",
    "from tqdm import tqdm # tqdm library, used for creating progress bars\n",
    "from babel.dates import format_date # babel library is likely required by Faker for handling localized data formats like dates and numbers\n",
    "from nmt_utils import *\n",
    "import matplotlib.pyplot as plt\n",
    "%matplotlib inline"
   ]
  },
  {
   "cell_type": "markdown",
   "metadata": {},
   "source": [
    "<a id=\"3\"></a>\n",
    "<h1 style=\"background: #FFC07F; border: 0; color: #2F2E41; \n",
    "    box-shadow: 4px 4px 8px rgba(0, 0, 0, 0.3); \n",
    "    padding: 10px; border-radius: 10px; margin: 15px 0;\">\n",
    "    <center style=\"color: #2F2E41;\">3 - Data Preparation</center>\n",
    "</h1>"
   ]
  },
  {
   "cell_type": "markdown",
   "metadata": {},
   "source": [
    "<a name='3-1'></a>\n",
    "## 3.1. Translating Human-Readable Dates into Machine-Readable Dates\n",
    "\n",
    "In this section, we develop a model to translate human-readable dates into machine-readable formats. While such a model could be expanded to handle complex language translation tasks (e.g., English to Hindi), those applications typically require extensive datasets and prolonged training on GPUs. For the purpose of this study, we focus on the more constrained problem of date translation, allowing for efficient experimentation without large datasets.\n",
    "\n",
    "### Problem Scope\n",
    "\n",
    "Our model will take dates expressed in various formats (e.g., \"the 29th of August 1958\", \"03/30/1968\", \"24 JUNE 1987\") and translate them into a standardized machine-readable format (e.g., \"1958-08-29\", \"1968-03-30\", \"1987-06-24\"). The output format we aim to achieve is the widely accepted convention: YYYY-MM-DD.\n",
    "\n",
    "By employing a neural sequence-to-sequence architecture, we enable the model to generalize across a range of date expressions, learning to parse and reformat them into a standardized output.\n",
    "\n",
    "### Key Takeaways\n",
    "\n",
    "- **Data Efficiency**: This task provides a simplified domain to experiment with neural translation models without requiring vast amounts of data or GPU resources.\n",
    "- **Application to Real-World NLP Tasks**: The methods and architectures explored here form the basis for more complex NLP tasks, laying groundwork applicable to language translation, text processing, and data normalization.\n",
    "\n"
   ]
  },
  {
   "cell_type": "markdown",
   "metadata": {},
   "source": [
    "<a id='3-2'></a>\n",
    "\n",
    "## 3.2. Dataset Overview\n",
    "\n",
    "To train our model, we use a dataset containing 10,000 pairs of human-readable dates and their corresponding standardized, machine-readable formats. This dataset provides diverse examples to help the model generalize across various date expressions.\n",
    "\n",
    "Below, we present some sample entries from the dataset to illustrate the range of input formats and the target machine-readable output.\n",
    "\n"
   ]
  },
  {
   "cell_type": "code",
   "execution_count": 6,
   "metadata": {},
   "outputs": [
    {
     "name": "stderr",
     "output_type": "stream",
     "text": [
      "100%|██████████| 10000/10000 [00:00<00:00, 23903.96it/s]\n"
     ]
    }
   ],
   "source": [
    "m = 10000\n",
    "dataset, human_vocab, machine_vocab, inv_machine_vocab = load_dataset(m)"
   ]
  },
  {
   "cell_type": "code",
   "execution_count": 7,
   "metadata": {},
   "outputs": [
    {
     "data": {
      "text/plain": [
       "[('10 nov 1992', '1992-11-10'),\n",
       " ('23.07.70', '1970-07-23'),\n",
       " ('4/12/15', '2015-04-12'),\n",
       " ('wednesday may 21 1986', '1986-05-21'),\n",
       " ('tuesday march 20 1990', '1990-03-20'),\n",
       " ('sunday august 17 1980', '1980-08-17'),\n",
       " ('sunday january 21 2001', '2001-01-21'),\n",
       " ('15 nov 1978', '1978-11-15'),\n",
       " ('26 oct 1976', '1976-10-26'),\n",
       " ('sunday october 3 1993', '1993-10-03')]"
      ]
     },
     "execution_count": 7,
     "metadata": {},
     "output_type": "execute_result"
    }
   ],
   "source": [
    "dataset[:10]"
   ]
  },
  {
   "cell_type": "markdown",
   "metadata": {},
   "source": [
    "We have loaded the following key components for model development:\n",
    "\n",
    "- `dataset`: A list containing tuples of the form (human-readable date, machine-readable date).\n",
    "- `human_vocab`: A dictionary that maps each character in the human-readable dates to a unique integer index.\n",
    "- `machine_vocab`: A dictionary that maps each character in the machine-readable dates to an integer index.\n",
    "    - **Note**: The indices in `machine_vocab` are not necessarily aligned with those in `human_vocab`.\n",
    "- `inv_machine_vocab`: The inverse mapping of `machine_vocab`, allowing translation from indices back to characters.\n",
    "\n",
    "<a id='3-3'></a>\n",
    "\n",
    "## 3.3. Dataset Preprocessing \n",
    "\n",
    "To prepare the data for model training, we will map the raw text data into integer indices. We define the following parameters for sequence lengths:\n",
    "\n",
    "- \\( T_x = 30 \\): This parameter represents the maximum length of the human-readable date sequence. For inputs exceeding this length, truncation will be applied.\n",
    "- \\( T_y = 10 \\): This value reflects the standardized length of the target format \"YYYY-MM-DD\", which contains 10 characters.\n",
    "\n",
    "The next steps involve transforming each date into indexed representations to facilitate model processing.\n"
   ]
  },
  {
   "cell_type": "code",
   "execution_count": 8,
   "metadata": {},
   "outputs": [
    {
     "data": {
      "text/plain": [
       "{' ': 0,\n",
       " '.': 1,\n",
       " '/': 2,\n",
       " '0': 3,\n",
       " '1': 4,\n",
       " '2': 5,\n",
       " '3': 6,\n",
       " '4': 7,\n",
       " '5': 8,\n",
       " '6': 9,\n",
       " '7': 10,\n",
       " '8': 11,\n",
       " '9': 12,\n",
       " 'a': 13,\n",
       " 'b': 14,\n",
       " 'c': 15,\n",
       " 'd': 16,\n",
       " 'e': 17,\n",
       " 'f': 18,\n",
       " 'g': 19,\n",
       " 'h': 20,\n",
       " 'i': 21,\n",
       " 'j': 22,\n",
       " 'l': 23,\n",
       " 'm': 24,\n",
       " 'n': 25,\n",
       " 'o': 26,\n",
       " 'p': 27,\n",
       " 'r': 28,\n",
       " 's': 29,\n",
       " 't': 30,\n",
       " 'u': 31,\n",
       " 'v': 32,\n",
       " 'w': 33,\n",
       " 'y': 34,\n",
       " '<unk>': 35,\n",
       " '<pad>': 36}"
      ]
     },
     "execution_count": 8,
     "metadata": {},
     "output_type": "execute_result"
    }
   ],
   "source": [
    "human_vocab"
   ]
  },
  {
   "cell_type": "code",
   "execution_count": 9,
   "metadata": {},
   "outputs": [
    {
     "name": "stderr",
     "output_type": "stream",
     "text": [
      "2024-11-13 10:12:49.799968: E external/local_xla/xla/stream_executor/cuda/cuda_driver.cc:152] failed call to cuInit: INTERNAL: CUDA error: Failed call to cuInit: UNKNOWN ERROR (303)\n"
     ]
    },
    {
     "data": {
      "text/plain": [
       "[PhysicalDevice(name='/physical_device:CPU:0', device_type='CPU')]"
      ]
     },
     "execution_count": 9,
     "metadata": {},
     "output_type": "execute_result"
    }
   ],
   "source": [
    "tf.config.list_physical_devices()"
   ]
  },
  {
   "cell_type": "code",
   "execution_count": 10,
   "metadata": {},
   "outputs": [
    {
     "name": "stdout",
     "output_type": "stream",
     "text": [
      "X.shape: (10000, 30)\n",
      "Y.shape: (10000, 10)\n",
      "Xoh.shape: (10000, 30, 37)\n",
      "Yoh.shape: (10000, 10, 11)\n"
     ]
    }
   ],
   "source": [
    "Tx = 30\n",
    "Ty = 10\n",
    "X, Y, Xoh, Yoh = preprocess_data(dataset, human_vocab, machine_vocab, Tx, Ty)\n",
    "\n",
    "print(\"X.shape:\", X.shape)\n",
    "print(\"Y.shape:\", Y.shape)\n",
    "print(\"Xoh.shape:\", Xoh.shape)\n",
    "print(\"Yoh.shape:\", Yoh.shape)"
   ]
  },
  {
   "cell_type": "markdown",
   "metadata": {},
   "source": [
    "The data processing stage has yielded the following components:\n",
    "\n",
    "- **`X`**: A processed array representing the human-readable dates in the training set.\n",
    "    - Each character in $X$ is mapped to an integer index based on `human_vocab`.\n",
    "    - Padding is applied to ensure each date has a length of $T_x$ using a special padding character (`< pad >`).\n",
    "    - $X.\\text{shape} = (m, T_x)$, where $m$ denotes the number of training examples in each batch.\n",
    "\n",
    "- **`Y`**: A processed array for the machine-readable date outputs.\n",
    "    - Each character in $Y$ is mapped to an integer index as defined in `machine_vocab`.\n",
    "    - $Y.\\text{shape} = (m, T_y)$.\n",
    "\n",
    "- **`Xoh`**: The one-hot encoded version of $X$.\n",
    "    - Each index in $X$ is converted to a one-hot vector, with the corresponding index position set to 1 and all others to 0.\n",
    "    - $Xoh.\\text{shape} = (m, T_x, \\text{len}(\\text{human\\_vocab}))$.\n",
    "\n",
    "- **`Yoh`**: The one-hot encoded version of $Y$.\n",
    "    - Each index in $Y$ is transformed into its one-hot representation.\n",
    "    - $Yoh.\\text{shape} = (m, T_y, \\text{len}(\\text{machine\\_vocab}))$.\n",
    "    - Here, $\\text{len}(\\text{machine\\_vocab}) = 11$, accounting for the 10 numeric digits (0–9) and the `-` symbol.\n",
    "\n",
    "These processed arrays will serve as the inputs for training the model, enabling it to learn accurate mappings between diverse date formats.\n"
   ]
  },
  {
   "cell_type": "markdown",
   "metadata": {},
   "source": [
    "To better understand the preprocessing results, we can examine some examples from the training set. By adjusting the `index` parameter in the following cell, we can navigate through the dataset to view different source and target date pairs in their preprocessed forms.\n",
    "\n",
    "This exploration provides insights into how diverse date formats are transformed into standardized representations, aiding the model in learning consistent mappings.\n"
   ]
  },
  {
   "cell_type": "code",
   "execution_count": 11,
   "metadata": {},
   "outputs": [
    {
     "name": "stdout",
     "output_type": "stream",
     "text": [
      "Source date: 10 nov 1992\n",
      "Target date: 1992-11-10\n",
      "\n",
      "Source after preprocessing (indices): [ 4  3  0 25 26 32  0  4 12 12  5 36 36 36 36 36 36 36 36 36 36 36 36 36\n",
      " 36 36 36 36 36 36]\n",
      "Target after preprocessing (indices): [ 2 10 10  3  0  2  2  0  2  1]\n",
      "\n",
      "Source after preprocessing (one-hot): [[0. 0. 0. ... 0. 0. 0.]\n",
      " [0. 0. 0. ... 0. 0. 0.]\n",
      " [1. 0. 0. ... 0. 0. 0.]\n",
      " ...\n",
      " [0. 0. 0. ... 0. 0. 1.]\n",
      " [0. 0. 0. ... 0. 0. 1.]\n",
      " [0. 0. 0. ... 0. 0. 1.]]\n",
      "Target after preprocessing (one-hot): [[0. 0. 1. 0. 0. 0. 0. 0. 0. 0. 0.]\n",
      " [0. 0. 0. 0. 0. 0. 0. 0. 0. 0. 1.]\n",
      " [0. 0. 0. 0. 0. 0. 0. 0. 0. 0. 1.]\n",
      " [0. 0. 0. 1. 0. 0. 0. 0. 0. 0. 0.]\n",
      " [1. 0. 0. 0. 0. 0. 0. 0. 0. 0. 0.]\n",
      " [0. 0. 1. 0. 0. 0. 0. 0. 0. 0. 0.]\n",
      " [0. 0. 1. 0. 0. 0. 0. 0. 0. 0. 0.]\n",
      " [1. 0. 0. 0. 0. 0. 0. 0. 0. 0. 0.]\n",
      " [0. 0. 1. 0. 0. 0. 0. 0. 0. 0. 0.]\n",
      " [0. 1. 0. 0. 0. 0. 0. 0. 0. 0. 0.]]\n"
     ]
    }
   ],
   "source": [
    "index = 0\n",
    "print(\"Source date:\", dataset[index][0])\n",
    "print(\"Target date:\", dataset[index][1])\n",
    "print()\n",
    "print(\"Source after preprocessing (indices):\", X[index])\n",
    "print(\"Target after preprocessing (indices):\", Y[index])\n",
    "print()\n",
    "print(\"Source after preprocessing (one-hot):\", Xoh[index])\n",
    "print(\"Target after preprocessing (one-hot):\", Yoh[index])"
   ]
  },
  {
   "cell_type": "markdown",
   "metadata": {},
   "source": [
    "<a id=\"3\"></a>\n",
    "<h1 style=\"background: #FFC07F; border: 0; color: #2F2E41; \n",
    "    box-shadow: 4px 4px 8px rgba(0, 0, 0, 0.3); \n",
    "    padding: 10px; border-radius: 10px; margin: 15px 0;\">\n",
    "    <center style=\"color: #2F2E41;\">4. Building the model</center>\n",
    "</h1>"
   ]
  },
  {
   "cell_type": "markdown",
   "metadata": {},
   "source": [
    "<a id='4-1'></a>\n",
    "\n",
    "## 4.1. Neural Machine Translation with Attention\n",
    "\n",
    "In human translation, a translator does not process an entire text in one go before beginning to translate. Instead, they focus on smaller parts, often re-reading sections of the original text as they work through the translation. Similarly, in Neural Machine Translation, the attention mechanism guides the model to concentrate on relevant parts of the input sequence during each translation step.\n",
    "\n",
    "The attention mechanism dynamically adjusts the model’s focus, effectively enhancing its ability to capture dependencies between input and output sequences.\n",
    "\n",
    "<a id='4-2'></a>\n",
    "\n",
    "## 4-2. Attention Mechanism\n",
    "\n",
    "In this section, we implement the attention mechanism. This mechanism facilitates the model's focus on specific parts of the input sequence at each output timestep, aiding in the translation process.\n",
    "\n",
    "- The left diagram below illustrates the structure of an attention-based model.\n",
    "- The right diagram depicts the calculation of the attention variables $\\alpha^{\\langle t, t' \\rangle}$ during an \"attention\" step.\n",
    "- These attention variables are then used to compute the context vector $context^{\\langle t \\rangle}$ for each timestep in the output sequence, where $t = 1, \\ldots, T_y$.\n",
    "\n",
    "<div style=\"text-align: center;\">\n",
    "<table>\n",
    "<tr>\n",
    "<td> \n",
    "<img src=\"https://raw.githubusercontent.com/umermjd11/DLC5M3A1/master/images/attn_model.png\" style=\"width:500px;height:500px;\"> <br>\n",
    "</td> \n",
    "<td> \n",
    "<img src=\"https://raw.githubusercontent.com/umermjd11/DLC5M3A1/master/images/attn_mechanism.png\" style=\"width:500px;height:500px;\"> <br>\n",
    "</td> \n",
    "</tr>\n",
    "</table>\n",
    "<caption>\n",
    "    <font color=\"#00796b\" style=\"font-size: 1.2em; font-weight: bold;\">\n",
    "      <b>Figure 1</b>: Neural Machine Translation with Attention\n",
    "    </font>\n",
    "  </caption>\n",
    "</div>\n",
    "\n"
   ]
  },
  {
   "cell_type": "markdown",
   "metadata": {},
   "source": [
    "<a id=\"4-2-1\"></a>\n",
    "\n",
    "### 4.2.1. Pre-attention and Post-attention LSTMs\n",
    "\n",
    "The model incorporates the following key architectural features, as shown in the diagram:\n",
    "\n",
    "- **Pre-attention Bi-LSTM**: Positioned at the bottom of the left diagram, this Bi-directional LSTM operates *before* the attention mechanism.\n",
    "    - It processes the input sequence through $T_x$ timesteps.\n",
    "    - The attention mechanism, highlighted in the middle of the diagram, applies after this layer.\n",
    "\n",
    "- **Post-attention LSTM**: Located at the top of the diagram, this LSTM layer follows the attention mechanism and processes the output sequence.\n",
    "    - It operates over $T_y$ timesteps, allowing the model to generate an output sequence based on the attention-modified input.\n",
    "\n",
    "- **State Propagation in Post-attention LSTM**: The post-attention LSTM maintains a continuous flow of information by passing the hidden state $s^{\\langle t \\rangle}$ and cell state $c^{\\langle t \\rangle}$ across each timestep.\n",
    "\n",
    "This layered structure allows the model to effectively utilize both past and future context from the input sequence and refine its focus with the attention mechanism before producing each output.\n"
   ]
  },
  {
   "cell_type": "markdown",
   "metadata": {},
   "source": [
    "<a id=\"4-2-2\"></a>\n",
    "\n",
    "### 4.2.2. LSTM States: Hidden State and Cell State\n",
    "\n",
    "\n",
    "- In the post-attention sequence model, a basic RNN may be used, which outputs only the hidden state $s^{\\langle t \\rangle}$ at each timestep. A basic RNN does not utilize a separate cell state.\n",
    "  \n",
    "- In contrast, we implement an LSTM instead of a basic RNN. The LSTM, by design, maintains two states:\n",
    "    - The **hidden state** $s^{\\langle t \\rangle}$, which represents the output of the model at each timestep.\n",
    "    - The **cell state** $c^{\\langle t \\rangle}$, which acts as the memory of the network, enabling it to retain information over longer sequences.\n",
    "\n",
    "The dual presence of the hidden state and cell state allows the LSTM to capture more complex temporal dependencies, improving the model’s ability to learn long-term relationships within the input sequence.\n",
    "\n"
   ]
  },
  {
   "cell_type": "markdown",
   "metadata": {},
   "source": [
    "<a id=\"4-2-3\"></a>\n",
    "\n",
    "### 4.2.3. No Dependency on Previous Time Step Predictions\n",
    "\n",
    "- In contrast to previous text generation models, where predictions from the previous timestep $y^{\\langle t-1 \\rangle}$ were used as input for generating the next character, the post-attention LSTM in this model operates differently.\n",
    "  \n",
    "- At each timestep $t$, the post-attention LSTM does not take the previous timestep's prediction $y^{\\langle t-1 \\rangle}$ as input. Instead, it only takes the hidden state $s^{\\langle t \\rangle}$ and cell state $c^{\\langle t \\rangle}$ from the previous timestep.\n",
    "\n",
    "- This design choice is driven by the nature of the task: unlike language generation, where adjacent characters are often highly correlated, there is less dependency between consecutive characters in a machine-readable date format such as YYYY-MM-DD. Therefore, it is not necessary for the model to rely on previous predictions to generate the next output character.\n"
   ]
  },
  {
   "cell_type": "markdown",
   "metadata": {},
   "source": [
    "<a id=\"4-2-4\"></a>\n",
    "\n",
    "### 4.2.4. Concatenation of Hidden States from the Forward and Backward Pre-attention LSTMs\n",
    "\n",
    "- $\\overrightarrow{a}^{\\langle t \\rangle}$: The hidden state of the forward-direction, pre-attention LSTM.\n",
    "- $\\overleftarrow{a}^{\\langle t \\rangle}$: The hidden state of the backward-direction, pre-attention LSTM.\n",
    "- $a^{\\langle t \\rangle} = [\\overrightarrow{a}^{\\langle t \\rangle}, \\overleftarrow{a}^{\\langle t \\rangle}]$: The concatenation of the activations from both the forward-direction $\\overrightarrow{a}^{\\langle t \\rangle}$ and backward-direction $\\overleftarrow{a}^{\\langle t \\rangle}$ of the pre-attention Bi-LSTM.\n",
    "\n",
    "This concatenation allows the model to leverage context from both the past and future, enhancing the representation of each timestep in the sequence.\n"
   ]
  },
  {
   "cell_type": "markdown",
   "metadata": {},
   "source": [
    "<a id=\"4-2-5\"></a>\n",
    "\n",
    "### 4.2.5. Computing \"Energies\" $e^{\\langle t, t' \\rangle}$ as a Function of $s^{\\langle t-1 \\rangle}$ and $a^{\\langle t' \\rangle}$\n",
    "\n",
    "- In the \"Attention Model\", the definition of the energy function $e^{\\langle t, t' \\rangle}$, which is computed as a function of the hidden states $s^{\\langle t-1 \\rangle}$ and $a^{\\langle t' \\rangle}$:\n",
    "    - $e^{\\langle t, t' \\rangle}$ is referred to as the \"energies\" variable.\n",
    "    - $s^{\\langle t-1 \\rangle}$ represents the hidden state of the post-attention LSTM at the previous timestep.\n",
    "    - $a^{\\langle t' \\rangle}$ denotes the hidden state of the pre-attention LSTM at timestep $t'$.\n",
    "    - These two vectors, $s^{\\langle t-1 \\rangle}$ and $a^{\\langle t' \\rangle}$, are fed into a simple neural network, which learns the function that outputs the energy $e^{\\langle t, t' \\rangle}$.\n",
    "    - The computed energy $e^{\\langle t, t' \\rangle}$ is then used in calculating the attention $a^{\\langle t, t' \\rangle}$, which determines the degree to which the output $y^{\\langle t \\rangle}$ should focus on the hidden state $a^{\\langle t' \\rangle}$ of the pre-attention LSTM at timestep $t'$.\n"
   ]
  },
  {
   "cell_type": "markdown",
   "metadata": {},
   "source": [
    "- The diagram on the right side of Figure 1 illustrates the use of a `RepeatVector` node to replicate the hidden state $s^{\\langle t-1 \\rangle}$ $T_x$ times. \n",
    "- This is followed by the `Concatenation` operation, which combines $s^{\\langle t-1 \\rangle}$ with the hidden state $a^{\\langle t \\rangle}$ from the pre-attention LSTM.\n",
    "- The concatenated vector of $s^{\\langle t-1 \\rangle}$ and $a^{\\langle t \\rangle}$ is then passed through a \"Dense\" layer, which computes the energy values $e^{\\langle t, t' \\rangle}$.\n",
    "- These energy values $e^{\\langle t, t' \\rangle}$ are subsequently passed through a softmax function to compute the attention weights $\\alpha^{\\langle t, t' \\rangle}$.\n",
    "- It is important to note that the diagram does not explicitly label the variable $e^{\\langle t, t' \\rangle}$, but it is located above the Dense layer and below the Softmax layer in the diagram on the right half of Figure 1.\n",
    "- We will further explain how to use `RepeatVector` and `Concatenation` in Keras in the upcoming sections.\n"
   ]
  },
  {
   "cell_type": "markdown",
   "metadata": {},
   "source": [
    "<a id='4-3'></a>\n",
    "\n",
    "## 4.3. Implementation Details\n",
    "\n",
    "Let us begin implementing the neural translator by defining the function `one_step_attention()` and the model architecture.\n",
    "\n",
    "<a id='4-3-1'></a>\n",
    "\n",
    "### 4.3.1. one_step_attention\n",
    "\n",
    "The inputs to the `one_step_attention` function at time step $t$ are:\n",
    "- $[a^{<1>}, a^{<2>}, ..., a^{<T_x>}]$: the sequence of hidden states from the pre-attention Bi-LSTM.\n",
    "- $s^{<t-1>}$: the previous hidden state of the post-attention LSTM.\n",
    "\n",
    "The function `one_step_attention` computes:\n",
    "- $[\\alpha^{<t,1>}, \\alpha^{<t,2>}, ..., \\alpha^{<t,T_x>}]$: the attention weights corresponding to each timestep $t'$.\n",
    "- $context^{\\langle t \\rangle}$: the context vector, computed as the weighted sum of the pre-attention hidden states, given by:\n",
    "\n",
    "$$\n",
    "context^{<t>} = \\sum_{t' = 1}^{T_x} \\alpha^{<t,t'>} a^{<t'>} \\tag{1}\n",
    "$$\n",
    "\n",
    "##### Clarifying 'context' and 'c'\n",
    "- The context vector is usually denoted as $c^{\\langle t \\rangle}$.\n",
    "- To avoid confusion with the internal memory cell variable of the post-attention LSTM, we refer to the context vector as $context^{\\langle t \\rangle}$ in this implementation.\n"
   ]
  },
  {
   "cell_type": "markdown",
   "metadata": {},
   "source": [
    "#### Implementing `one_step_attention()`\n",
    "\n",
    "now our task is to implement the function `one_step_attention()`.\n",
    "\n",
    "- The function `model()` will invoke the layers within `one_step_attention()` for $T_y$ iterations using a for-loop.\n",
    "- It is crucial that all $T_y$ iterations share the same weights. This means:\n",
    "    - The weights should not be reinitialized with each iteration.\n",
    "    - All $T_y$ steps should use shared weights, ensuring consistency throughout the process.\n",
    "\n",
    "##### Implementing Layers with Shared Weights in Keras\n",
    "\n",
    "To implement layers with shared weights in Keras, we will follow these guidelines:\n",
    "\n",
    "1. **Layer Definition Scope**: Define the layer objects in a variable scope outside the `one_step_attention()` function. For example, defining the layers as global variables ensures that they retain their weights across iterations.\n",
    "    - While defining these layers inside the `model()` function would technically work, for ease of troubleshooting, we recommend defining them as global variables.\n",
    "\n",
    "2. **Using Defined Layers**: Once the layers are defined globally, we can use them when propagating the input through the network.\n",
    "\n",
    "\n",
    "##### Layer Function Calls\n",
    "\n",
    "You can refer to the Keras documentation for further details on each layer. Below are examples of how to call the layers in your implementation:\n",
    "\n",
    "- **RepeatVector**: Replicates the input multiple times along a new axis.\n",
    "    ```python\n",
    "    var_repeated = repeat_layer(var1)\n",
    "    ```\n",
    "    [Keras RepeatVector Documentation](https://www.tensorflow.org/api_docs/python/tf/keras/layers/RepeatVector)\n",
    "\n",
    "- **Concatenate**: Concatenates a list of tensors along a specified axis.\n",
    "    ```python\n",
    "    concatenated_vars = concatenate_layer([var1, var2, var3])\n",
    "    ```\n",
    "    [Keras Concatenate Documentation](https://www.tensorflow.org/api_docs/python/tf/keras/layers/Concatenate)\n",
    "\n",
    "- **Dense**: Applies a linear transformation to the input.\n",
    "    ```python\n",
    "    var_out = dense_layer(var_in)\n",
    "    ```\n",
    "    [Keras Dense Documentation](https://keras.io/layers/core/#dense)\n",
    "\n",
    "- **Activation**: Applies an activation function to the input.\n",
    "    ```python\n",
    "    activation = activation_layer(var_in)\n",
    "    ```\n",
    "    [Keras Activation Documentation](https://keras.io/layers/core/#activation)\n",
    "\n",
    "- **Dot**: Computes the dot product of two tensors.\n",
    "    ```python\n",
    "    dot_product = dot_layer([var1, var2])\n",
    "    ```\n",
    "    [Keras Dot Documentation](https://www.tensorflow.org/api_docs/python/tf/keras/layers/Dot)\n"
   ]
  },
  {
   "cell_type": "code",
   "execution_count": 13,
   "metadata": {},
   "outputs": [],
   "source": [
    "# Defined shared layers as global variables\n",
    "repeator = RepeatVector(Tx)\n",
    "concatenator = Concatenate(axis=-1)\n",
    "densor1 = Dense(10, activation = \"tanh\")\n",
    "densor2 = Dense(1, activation = \"relu\")\n",
    "activator = Activation(softmax, name='attention_weights') # We are using a custom softmax(axis = 1) loaded in this notebook\n",
    "dotor = Dot(axes = 1)"
   ]
  },
  {
   "cell_type": "code",
   "execution_count": 15,
   "metadata": {},
   "outputs": [],
   "source": [
    "from typing import Tuple\n",
    "import numpy as np\n",
    "\n",
    "def one_step_attention(a: np.ndarray, s_prev: np.ndarray) -> np.ndarray:\n",
    "    \"\"\"\n",
    "    Performs one step of attention, outputting a context vector computed as a dot product of \n",
    "    the attention weights \"alphas\" and the hidden states \"a\" of the Bi-LSTM.\n",
    "    \n",
    "    Arguments:\n",
    "    a -- Hidden state output of the Bi-LSTM, numpy-array of shape (m, Tx, 2*n_a)\n",
    "    s_prev -- Previous hidden state of the (post-attention) LSTM, numpy-array of shape (m, n_s)\n",
    "    \n",
    "    Returns:\n",
    "    context -- Context vector, input to the next (post-attention) LSTM cell, numpy-array of shape (m, 2*n_a)\n",
    "    \"\"\"\n",
    "    \n",
    "    # Step 1: Repeat s_prev across the time steps dimension\n",
    "    s_prev_repeated = repeator(s_prev)  # Shape: (m, Tx, n_s)\n",
    "    \n",
    "    # Step 2: Concatenate the hidden states 'a' and the repeated s_prev along the last axis\n",
    "    concat = concatenator([a, s_prev_repeated])  # Shape: (m, Tx, 2*n_a + n_s)\n",
    "    \n",
    "    # Step 3: Compute the intermediate energies by passing 'concat' through the first dense layer\n",
    "    e = densor1(concat)  # Shape: (m, Tx, 64), assuming 64 units in densor1\n",
    "    \n",
    "    # Step 4: Compute the final energies for the attention weights\n",
    "    energies = densor2(e)  # Shape: (m, Tx, 1)\n",
    "    \n",
    "    # Step 5: Apply the activation function (e.g., softmax) to obtain the attention weights\n",
    "    alphas = activator(energies)  # Shape: (m, Tx, 1), normalized across Tx dimension\n",
    "    \n",
    "    # Step 6: Compute the context vector as a weighted sum of 'a' based on attention weights 'alphas'\n",
    "    context = dotor([alphas, a])  # Shape: (m, 2*n_a)\n",
    "    \n",
    "    return context\n"
   ]
  },
  {
   "cell_type": "code",
   "execution_count": 17,
   "metadata": {},
   "outputs": [
    {
     "name": "stdout",
     "output_type": "stream",
     "text": [
      "\u001b[92mAll tests passed!\n"
     ]
    }
   ],
   "source": [
    "# UNIT TEST\n",
    "def one_step_attention_test(target):\n",
    "\n",
    "    m = 10\n",
    "    Tx = 30\n",
    "    n_a = 32\n",
    "    n_s = 64\n",
    "    #np.random.seed(10)\n",
    "    a = np.random.uniform(1, 0, (m, Tx, 2 * n_a)).astype(np.float32)\n",
    "    s_prev =np.random.uniform(1, 0, (m, n_s)).astype(np.float32) * 1\n",
    "    context = target(a, s_prev)\n",
    "    \n",
    "    assert tf.is_tensor(context), \"Unexpected type. It should be a Tensor\"\n",
    "    assert tuple(context.shape) == (m, 1, n_s), \"Unexpected output shape\"\n",
    "    assert np.all(context.numpy() > 0), \"All output values must be > 0 in this example\"\n",
    "    assert np.all(context.numpy() < 1), \"All output values must be < 1 in this example\"\n",
    "\n",
    "    #assert np.allclose(context[0][0][0:5].numpy(), [0.50877404, 0.57160693, 0.45448175, 0.50074816, 0.53651875]), \"Unexpected values in the result\"\n",
    "    print(\"\\033[92mAll tests passed!\")\n",
    "    \n",
    "one_step_attention_test(one_step_attention)"
   ]
  },
  {
   "cell_type": "markdown",
   "metadata": {},
   "source": [
    "<a id='4-3-2'></a>\n",
    "\n",
    "### 4.3.2. Implementing `modelf()`\n",
    "\n",
    "Now, we will implement the function `modelf()` as outlined in Figure 1 and the instructions provided.\n",
    "\n",
    "#### Function Overview\n",
    "\n",
    "The `modelf()` function performs the following steps:\n",
    "\n",
    "1. **Bi-LSTM Processing**: The input is first passed through a Bidirectional Long Short-Term Memory (Bi-LSTM) layer to produce a sequence of context vectors, denoted as $[a^{<1>}, a^{<2>}, ..., a^{<T_x>}]$.\n",
    "   \n",
    "2. **Recurrent Attention Loop**: The function then calls the `one_step_attention()` function $T_y$ times using a `for` loop. For each iteration of the loop:\n",
    "    - The computed context vector $context^{<t>}$ is passed to the post-attention LSTM.\n",
    "    - The output of the post-attention LSTM is passed through a Dense layer with a softmax activation.\n",
    "    - The softmax activation generates a prediction $\\hat{y}^{<t>}$. \n",
    "\n",
    "#### Layer Sharing\n",
    "\n",
    "In previous codes cells above, we have defined global layers that will share weights across the $T_y$ iterations within the `modelf()` function. These layers will ensure that the weights are not reinitialized during each iteration, promoting consistent behavior across all steps.\n",
    "\n"
   ]
  },
  {
   "cell_type": "code",
   "execution_count": 19,
   "metadata": {},
   "outputs": [],
   "source": [
    "n_a = 32 # number of units for the pre-attention, bi-directional LSTM's hidden state 'a'\n",
    "n_s = 64 # number of units for the post-attention LSTM's hidden state \"s\"\n",
    "\n",
    "# Please note, this is the post attention LSTM cell.  \n",
    "post_attention_LSTM_cell = LSTM(n_s, return_state = True) # Please do not modify this global variable.\n",
    "output_layer = Dense(len(machine_vocab), activation=softmax)"
   ]
  },
  {
   "cell_type": "markdown",
   "metadata": {},
   "source": [
    "Now we can use these layers $T_y$ times in a `for` loop to generate the outputs, and their parameters will not be reinitialized. we will have to carry out the following steps: \n",
    "\n",
    "1. Propagate the input `X` into a bi-directional LSTM.\n",
    "    * [Bidirectional](https://keras.io/layers/wrappers/#bidirectional) \n",
    "    * [LSTM](https://keras.io/layers/recurrent/#lstm)\n",
    "    * Remember that we want the LSTM to return a full sequence instead of just the last hidden state.  \n",
    "    \n",
    "Sample code:\n",
    "\n",
    "```Python\n",
    "sequence_of_hidden_states = Bidirectional(LSTM(units=..., return_sequences=...))(the_input_X)\n",
    "```\n",
    "    \n",
    "2. Iterate for $t = 0, \\cdots, T_y-1$: \n",
    "    1. Call `one_step_attention()`, passing in the sequence of hidden states $[a^{\\langle 1 \\rangle},a^{\\langle 2 \\rangle}, ..., a^{ \\langle T_x \\rangle}]$ from the pre-attention bi-directional LSTM, and the previous hidden state $s^{<t-1>}$ from the post-attention LSTM to calculate the context vector $context^{<t>}$.\n",
    "    2. Give $context^{<t>}$ to the post-attention LSTM cell. \n",
    "        - Remember to pass in the previous hidden-state $s^{\\langle t-1\\rangle}$ and cell-states $c^{\\langle t-1\\rangle}$ of this LSTM \n",
    "        * This outputs the new hidden state $s^{<t>}$ and the new cell state $c^{<t>}$.  \n",
    "\n",
    "        Sample code:\n",
    "        ```Python\n",
    "        next_hidden_state, _ , next_cell_state = \n",
    "            post_attention_LSTM_cell(inputs=..., initial_state=[prev_hidden_state, prev_cell_state])\n",
    "        ```   \n",
    "\n",
    "    3. Apply a dense, softmax layer to $s^{<t>}$, get the output.  \n",
    "        Sample code:\n",
    "        ```Python\n",
    "        output = output_layer(inputs=...)\n",
    "        ```\n",
    "    4. Save the output by adding it to the list of outputs.\n",
    "\n",
    "3. Create our Keras model instance.\n",
    "    * It should have three inputs:\n",
    "        * `X`, the one-hot encoded inputs to the model, of shape ($T_{x}, humanVocabSize)$\n",
    "        * $s^{\\langle 0 \\rangle}$, the initial hidden state of the post-attention LSTM\n",
    "        * $c^{\\langle 0 \\rangle}$, the initial cell state of the post-attention LSTM\n",
    "    * The output is the list of outputs.  \n",
    "    Sample code\n",
    "    ```Python\n",
    "    model = Model(inputs=[...,...,...], outputs=...)\n",
    "    ```\n",
    "    "
   ]
  },
  {
   "cell_type": "code",
   "execution_count": 36,
   "metadata": {},
   "outputs": [],
   "source": [
    "\n",
    "from tensorflow.keras.layers import Input, LSTM, Dense, Bidirectional\n",
    "from tensorflow.keras.models import Model\n",
    "from typing import List\n",
    "\n",
    "def modelf(Tx: int, Ty: int, n_a: int, n_s: int, human_vocab_size: int, machine_vocab_size: int) -> Model:\n",
    "    \"\"\"\n",
    "    Creates an attention-based sequence-to-sequence model.\n",
    "\n",
    "    Arguments:\n",
    "    Tx -- length of the input sequence\n",
    "    Ty -- length of the output sequence\n",
    "    n_a -- hidden state size of the Bi-LSTM\n",
    "    n_s -- hidden state size of the post-attention LSTM\n",
    "    human_vocab_size -- size of the input vocabulary\n",
    "    machine_vocab_size -- size of the output vocabulary\n",
    "\n",
    "    Returns:\n",
    "    model -- Keras model instance\n",
    "    \"\"\"\n",
    "    \n",
    "    # Step 0: Define the inputs\n",
    "    X = Input(shape=(Tx, human_vocab_size), name=\"Input_Sequence\")\n",
    "    s0 = Input(shape=(n_s,), name=\"s0\")  # Initial hidden state of LSTM\n",
    "    c0 = Input(shape=(n_s,), name=\"c0\")  # Initial cell state of LSTM\n",
    "    s, c = s0, c0  # Initialize s and c with s0 and c0\n",
    "    \n",
    "    # Initialize list of outputs\n",
    "    outputs: List[tf.Tensor] = []\n",
    "\n",
    "    \n",
    "    # Step 1: Define the Bi-LSTM layer\n",
    "    a = Bidirectional(LSTM(n_a, return_sequences=True), name=\"BiLSTM\")(X)\n",
    "    \n",
    "    # Step 2: Loop through each time step to generate outputs\n",
    "    for t in range(Ty):\n",
    "        # Step 2.A: Compute the context vector via attention\n",
    "        context = one_step_attention(a, s)\n",
    "        \n",
    "        # Step 2.B: Apply the post-attention LSTM with the context vector\n",
    "        s, _, c = post_attention_LSTM_cell(context, initial_state=[s, c])\n",
    "        \n",
    "        # Step 2.C: Apply the output Dense layer to get the output at time step t\n",
    "        out = output_layer(s)\n",
    "        \n",
    "        # Step 2.D: Append current output to the outputs list\n",
    "        outputs.append(out)\n",
    "    \n",
    "    # Step 3: Define and compile the model\n",
    "    model = Model(inputs=[X, s0, c0], outputs=outputs, name=\"Attention_Model\")\n",
    "    \n",
    "    return model\n"
   ]
  },
  {
   "cell_type": "code",
   "execution_count": 39,
   "metadata": {},
   "outputs": [
    {
     "name": "stdout",
     "output_type": "stream",
     "text": [
      "[['InputLayer', (None, 30, 37), 0], ['InputLayer', (None, 64), 0], ['Bidirectional', (None, 30, 64), 17920], ['RepeatVector', (None, 30, 64), 0, 30], ['Concatenate', (None, 30, 128), 0], ['Dense', (None, 30, 10), 1290, 'tanh'], ['Dense', (None, 30, 1), 11, 'relu'], ['Activation', (None, 30, 1), 0], ['Dot', (None, 1, 64), 0], ['InputLayer', (None, 64), 0], ['LSTM', [(None, 64), (None, 64), (None, 64)], 33024, [(None, 64), (None, 64), (None, 64)], 'tanh'], ['Dense', (None, 11), 715, 'softmax']]\n",
      "\u001b[32mAll tests passed!\u001b[0m\n"
     ]
    }
   ],
   "source": [
    "# UNIT TEST\n",
    "from test_utils import *\n",
    "\n",
    "def modelf_test(target):\n",
    "    m = 10\n",
    "    Tx = 30\n",
    "    n_a = 32\n",
    "    n_s = 64\n",
    "    len_human_vocab = 37\n",
    "    len_machine_vocab = 11\n",
    "    \n",
    "    \n",
    "    model = target(Tx, Ty, n_a, n_s, len_human_vocab, len_machine_vocab)\n",
    "    \n",
    "    print(summary(model))\n",
    "\n",
    "    \n",
    "    expected_summary = [['InputLayer', (None, 30, 37), 0],\n",
    "                         ['InputLayer', (None, 64), 0],\n",
    "                         ['Bidirectional', (None, 30, 64), 17920],\n",
    "                         ['RepeatVector', (None, 30, 64), 0, 30],\n",
    "                         ['Concatenate', (None, 30, 128), 0],\n",
    "                         ['Dense', (None, 30, 10), 1290, 'tanh'],\n",
    "                         ['Dense', (None, 30, 1), 11, 'relu'],\n",
    "                         ['Activation', (None, 30, 1), 0],\n",
    "                         ['Dot', (None, 1, 64), 0],\n",
    "                         ['InputLayer', (None, 64), 0],\n",
    "                         ['LSTM',[(None, 64), (None, 64), (None, 64)], 33024,[(None, 64), (None, 64), (None, 64)],'tanh'],\n",
    "                         ['Dense', (None, 11), 715, 'softmax']]\n",
    "\n",
    "    comparator(summary(model), expected_summary)\n",
    "    \n",
    "\n",
    "modelf_test(modelf)"
   ]
  },
  {
   "cell_type": "markdown",
   "metadata": {},
   "source": [
    "Now we create our model."
   ]
  },
  {
   "cell_type": "code",
   "execution_count": 40,
   "metadata": {},
   "outputs": [],
   "source": [
    "model = modelf(Tx, Ty, n_a, n_s, len(human_vocab), len(machine_vocab))"
   ]
  },
  {
   "cell_type": "markdown",
   "metadata": {},
   "source": [
    "Let's get a summary of the model "
   ]
  },
  {
   "cell_type": "code",
   "execution_count": 41,
   "metadata": {},
   "outputs": [
    {
     "data": {
      "text/html": [
       "<pre style=\"white-space:pre;overflow-x:auto;line-height:normal;font-family:Menlo,'DejaVu Sans Mono',consolas,'Courier New',monospace\"><span style=\"font-weight: bold\">Model: \"Attention_Model\"</span>\n",
       "</pre>\n"
      ],
      "text/plain": [
       "\u001b[1mModel: \"Attention_Model\"\u001b[0m\n"
      ]
     },
     "metadata": {},
     "output_type": "display_data"
    },
    {
     "data": {
      "text/html": [
       "<pre style=\"white-space:pre;overflow-x:auto;line-height:normal;font-family:Menlo,'DejaVu Sans Mono',consolas,'Courier New',monospace\">┏━━━━━━━━━━━━━━━━━━━━━┳━━━━━━━━━━━━━━━━━━━┳━━━━━━━━━━━━┳━━━━━━━━━━━━━━━━━━━┓\n",
       "┃<span style=\"font-weight: bold\"> Layer (type)        </span>┃<span style=\"font-weight: bold\"> Output Shape      </span>┃<span style=\"font-weight: bold\">    Param # </span>┃<span style=\"font-weight: bold\"> Connected to      </span>┃\n",
       "┡━━━━━━━━━━━━━━━━━━━━━╇━━━━━━━━━━━━━━━━━━━╇━━━━━━━━━━━━╇━━━━━━━━━━━━━━━━━━━┩\n",
       "│ Input_Sequence      │ (<span style=\"color: #00d7ff; text-decoration-color: #00d7ff\">None</span>, <span style=\"color: #00af00; text-decoration-color: #00af00\">30</span>, <span style=\"color: #00af00; text-decoration-color: #00af00\">37</span>)    │          <span style=\"color: #00af00; text-decoration-color: #00af00\">0</span> │ -                 │\n",
       "│ (<span style=\"color: #0087ff; text-decoration-color: #0087ff\">InputLayer</span>)        │                   │            │                   │\n",
       "├─────────────────────┼───────────────────┼────────────┼───────────────────┤\n",
       "│ s0 (<span style=\"color: #0087ff; text-decoration-color: #0087ff\">InputLayer</span>)     │ (<span style=\"color: #00d7ff; text-decoration-color: #00d7ff\">None</span>, <span style=\"color: #00af00; text-decoration-color: #00af00\">64</span>)        │          <span style=\"color: #00af00; text-decoration-color: #00af00\">0</span> │ -                 │\n",
       "├─────────────────────┼───────────────────┼────────────┼───────────────────┤\n",
       "│ BiLSTM              │ (<span style=\"color: #00d7ff; text-decoration-color: #00d7ff\">None</span>, <span style=\"color: #00af00; text-decoration-color: #00af00\">30</span>, <span style=\"color: #00af00; text-decoration-color: #00af00\">64</span>)    │     <span style=\"color: #00af00; text-decoration-color: #00af00\">17,920</span> │ Input_Sequence[<span style=\"color: #00af00; text-decoration-color: #00af00\">0</span>… │\n",
       "│ (<span style=\"color: #0087ff; text-decoration-color: #0087ff\">Bidirectional</span>)     │                   │            │                   │\n",
       "├─────────────────────┼───────────────────┼────────────┼───────────────────┤\n",
       "│ repeat_vector       │ (<span style=\"color: #00d7ff; text-decoration-color: #00d7ff\">None</span>, <span style=\"color: #00af00; text-decoration-color: #00af00\">30</span>, <span style=\"color: #00af00; text-decoration-color: #00af00\">64</span>)    │          <span style=\"color: #00af00; text-decoration-color: #00af00\">0</span> │ s0[<span style=\"color: #00af00; text-decoration-color: #00af00\">0</span>][<span style=\"color: #00af00; text-decoration-color: #00af00\">0</span>],         │\n",
       "│ (<span style=\"color: #0087ff; text-decoration-color: #0087ff\">RepeatVector</span>)      │                   │            │ lstm_1[<span style=\"color: #00af00; text-decoration-color: #00af00\">180</span>][<span style=\"color: #00af00; text-decoration-color: #00af00\">0</span>],   │\n",
       "│                     │                   │            │ lstm_1[<span style=\"color: #00af00; text-decoration-color: #00af00\">181</span>][<span style=\"color: #00af00; text-decoration-color: #00af00\">0</span>],   │\n",
       "│                     │                   │            │ lstm_1[<span style=\"color: #00af00; text-decoration-color: #00af00\">182</span>][<span style=\"color: #00af00; text-decoration-color: #00af00\">0</span>],   │\n",
       "│                     │                   │            │ lstm_1[<span style=\"color: #00af00; text-decoration-color: #00af00\">183</span>][<span style=\"color: #00af00; text-decoration-color: #00af00\">0</span>],   │\n",
       "│                     │                   │            │ lstm_1[<span style=\"color: #00af00; text-decoration-color: #00af00\">184</span>][<span style=\"color: #00af00; text-decoration-color: #00af00\">0</span>],   │\n",
       "│                     │                   │            │ lstm_1[<span style=\"color: #00af00; text-decoration-color: #00af00\">185</span>][<span style=\"color: #00af00; text-decoration-color: #00af00\">0</span>],   │\n",
       "│                     │                   │            │ lstm_1[<span style=\"color: #00af00; text-decoration-color: #00af00\">186</span>][<span style=\"color: #00af00; text-decoration-color: #00af00\">0</span>],   │\n",
       "│                     │                   │            │ lstm_1[<span style=\"color: #00af00; text-decoration-color: #00af00\">187</span>][<span style=\"color: #00af00; text-decoration-color: #00af00\">0</span>],   │\n",
       "│                     │                   │            │ lstm_1[<span style=\"color: #00af00; text-decoration-color: #00af00\">188</span>][<span style=\"color: #00af00; text-decoration-color: #00af00\">0</span>]    │\n",
       "├─────────────────────┼───────────────────┼────────────┼───────────────────┤\n",
       "│ concatenate         │ (<span style=\"color: #00d7ff; text-decoration-color: #00d7ff\">None</span>, <span style=\"color: #00af00; text-decoration-color: #00af00\">30</span>, <span style=\"color: #00af00; text-decoration-color: #00af00\">128</span>)   │          <span style=\"color: #00af00; text-decoration-color: #00af00\">0</span> │ BiLSTM[<span style=\"color: #00af00; text-decoration-color: #00af00\">0</span>][<span style=\"color: #00af00; text-decoration-color: #00af00\">0</span>],     │\n",
       "│ (<span style=\"color: #0087ff; text-decoration-color: #0087ff\">Concatenate</span>)       │                   │            │ repeat_vector[<span style=\"color: #00af00; text-decoration-color: #00af00\">18…</span> │\n",
       "│                     │                   │            │ BiLSTM[<span style=\"color: #00af00; text-decoration-color: #00af00\">0</span>][<span style=\"color: #00af00; text-decoration-color: #00af00\">0</span>],     │\n",
       "│                     │                   │            │ repeat_vector[<span style=\"color: #00af00; text-decoration-color: #00af00\">18…</span> │\n",
       "│                     │                   │            │ BiLSTM[<span style=\"color: #00af00; text-decoration-color: #00af00\">0</span>][<span style=\"color: #00af00; text-decoration-color: #00af00\">0</span>],     │\n",
       "│                     │                   │            │ repeat_vector[<span style=\"color: #00af00; text-decoration-color: #00af00\">18…</span> │\n",
       "│                     │                   │            │ BiLSTM[<span style=\"color: #00af00; text-decoration-color: #00af00\">0</span>][<span style=\"color: #00af00; text-decoration-color: #00af00\">0</span>],     │\n",
       "│                     │                   │            │ repeat_vector[<span style=\"color: #00af00; text-decoration-color: #00af00\">18…</span> │\n",
       "│                     │                   │            │ BiLSTM[<span style=\"color: #00af00; text-decoration-color: #00af00\">0</span>][<span style=\"color: #00af00; text-decoration-color: #00af00\">0</span>],     │\n",
       "│                     │                   │            │ repeat_vector[<span style=\"color: #00af00; text-decoration-color: #00af00\">18…</span> │\n",
       "│                     │                   │            │ BiLSTM[<span style=\"color: #00af00; text-decoration-color: #00af00\">0</span>][<span style=\"color: #00af00; text-decoration-color: #00af00\">0</span>],     │\n",
       "│                     │                   │            │ repeat_vector[<span style=\"color: #00af00; text-decoration-color: #00af00\">18…</span> │\n",
       "│                     │                   │            │ BiLSTM[<span style=\"color: #00af00; text-decoration-color: #00af00\">0</span>][<span style=\"color: #00af00; text-decoration-color: #00af00\">0</span>],     │\n",
       "│                     │                   │            │ repeat_vector[<span style=\"color: #00af00; text-decoration-color: #00af00\">18…</span> │\n",
       "│                     │                   │            │ BiLSTM[<span style=\"color: #00af00; text-decoration-color: #00af00\">0</span>][<span style=\"color: #00af00; text-decoration-color: #00af00\">0</span>],     │\n",
       "│                     │                   │            │ repeat_vector[<span style=\"color: #00af00; text-decoration-color: #00af00\">18…</span> │\n",
       "│                     │                   │            │ BiLSTM[<span style=\"color: #00af00; text-decoration-color: #00af00\">0</span>][<span style=\"color: #00af00; text-decoration-color: #00af00\">0</span>],     │\n",
       "│                     │                   │            │ repeat_vector[<span style=\"color: #00af00; text-decoration-color: #00af00\">18…</span> │\n",
       "│                     │                   │            │ BiLSTM[<span style=\"color: #00af00; text-decoration-color: #00af00\">0</span>][<span style=\"color: #00af00; text-decoration-color: #00af00\">0</span>],     │\n",
       "│                     │                   │            │ repeat_vector[<span style=\"color: #00af00; text-decoration-color: #00af00\">18…</span> │\n",
       "├─────────────────────┼───────────────────┼────────────┼───────────────────┤\n",
       "│ dense (<span style=\"color: #0087ff; text-decoration-color: #0087ff\">Dense</span>)       │ (<span style=\"color: #00d7ff; text-decoration-color: #00d7ff\">None</span>, <span style=\"color: #00af00; text-decoration-color: #00af00\">30</span>, <span style=\"color: #00af00; text-decoration-color: #00af00\">10</span>)    │      <span style=\"color: #00af00; text-decoration-color: #00af00\">1,290</span> │ concatenate[<span style=\"color: #00af00; text-decoration-color: #00af00\">180</span>]… │\n",
       "│                     │                   │            │ concatenate[<span style=\"color: #00af00; text-decoration-color: #00af00\">181</span>]… │\n",
       "│                     │                   │            │ concatenate[<span style=\"color: #00af00; text-decoration-color: #00af00\">182</span>]… │\n",
       "│                     │                   │            │ concatenate[<span style=\"color: #00af00; text-decoration-color: #00af00\">183</span>]… │\n",
       "│                     │                   │            │ concatenate[<span style=\"color: #00af00; text-decoration-color: #00af00\">184</span>]… │\n",
       "│                     │                   │            │ concatenate[<span style=\"color: #00af00; text-decoration-color: #00af00\">185</span>]… │\n",
       "│                     │                   │            │ concatenate[<span style=\"color: #00af00; text-decoration-color: #00af00\">186</span>]… │\n",
       "│                     │                   │            │ concatenate[<span style=\"color: #00af00; text-decoration-color: #00af00\">187</span>]… │\n",
       "│                     │                   │            │ concatenate[<span style=\"color: #00af00; text-decoration-color: #00af00\">188</span>]… │\n",
       "│                     │                   │            │ concatenate[<span style=\"color: #00af00; text-decoration-color: #00af00\">189</span>]… │\n",
       "├─────────────────────┼───────────────────┼────────────┼───────────────────┤\n",
       "│ dense_1 (<span style=\"color: #0087ff; text-decoration-color: #0087ff\">Dense</span>)     │ (<span style=\"color: #00d7ff; text-decoration-color: #00d7ff\">None</span>, <span style=\"color: #00af00; text-decoration-color: #00af00\">30</span>, <span style=\"color: #00af00; text-decoration-color: #00af00\">1</span>)     │         <span style=\"color: #00af00; text-decoration-color: #00af00\">11</span> │ dense[<span style=\"color: #00af00; text-decoration-color: #00af00\">180</span>][<span style=\"color: #00af00; text-decoration-color: #00af00\">0</span>],    │\n",
       "│                     │                   │            │ dense[<span style=\"color: #00af00; text-decoration-color: #00af00\">181</span>][<span style=\"color: #00af00; text-decoration-color: #00af00\">0</span>],    │\n",
       "│                     │                   │            │ dense[<span style=\"color: #00af00; text-decoration-color: #00af00\">182</span>][<span style=\"color: #00af00; text-decoration-color: #00af00\">0</span>],    │\n",
       "│                     │                   │            │ dense[<span style=\"color: #00af00; text-decoration-color: #00af00\">183</span>][<span style=\"color: #00af00; text-decoration-color: #00af00\">0</span>],    │\n",
       "│                     │                   │            │ dense[<span style=\"color: #00af00; text-decoration-color: #00af00\">184</span>][<span style=\"color: #00af00; text-decoration-color: #00af00\">0</span>],    │\n",
       "│                     │                   │            │ dense[<span style=\"color: #00af00; text-decoration-color: #00af00\">185</span>][<span style=\"color: #00af00; text-decoration-color: #00af00\">0</span>],    │\n",
       "│                     │                   │            │ dense[<span style=\"color: #00af00; text-decoration-color: #00af00\">186</span>][<span style=\"color: #00af00; text-decoration-color: #00af00\">0</span>],    │\n",
       "│                     │                   │            │ dense[<span style=\"color: #00af00; text-decoration-color: #00af00\">187</span>][<span style=\"color: #00af00; text-decoration-color: #00af00\">0</span>],    │\n",
       "│                     │                   │            │ dense[<span style=\"color: #00af00; text-decoration-color: #00af00\">188</span>][<span style=\"color: #00af00; text-decoration-color: #00af00\">0</span>],    │\n",
       "│                     │                   │            │ dense[<span style=\"color: #00af00; text-decoration-color: #00af00\">189</span>][<span style=\"color: #00af00; text-decoration-color: #00af00\">0</span>]     │\n",
       "├─────────────────────┼───────────────────┼────────────┼───────────────────┤\n",
       "│ attention_weights   │ (<span style=\"color: #00d7ff; text-decoration-color: #00d7ff\">None</span>, <span style=\"color: #00af00; text-decoration-color: #00af00\">30</span>, <span style=\"color: #00af00; text-decoration-color: #00af00\">1</span>)     │          <span style=\"color: #00af00; text-decoration-color: #00af00\">0</span> │ dense_1[<span style=\"color: #00af00; text-decoration-color: #00af00\">180</span>][<span style=\"color: #00af00; text-decoration-color: #00af00\">0</span>],  │\n",
       "│ (<span style=\"color: #0087ff; text-decoration-color: #0087ff\">Activation</span>)        │                   │            │ dense_1[<span style=\"color: #00af00; text-decoration-color: #00af00\">181</span>][<span style=\"color: #00af00; text-decoration-color: #00af00\">0</span>],  │\n",
       "│                     │                   │            │ dense_1[<span style=\"color: #00af00; text-decoration-color: #00af00\">182</span>][<span style=\"color: #00af00; text-decoration-color: #00af00\">0</span>],  │\n",
       "│                     │                   │            │ dense_1[<span style=\"color: #00af00; text-decoration-color: #00af00\">183</span>][<span style=\"color: #00af00; text-decoration-color: #00af00\">0</span>],  │\n",
       "│                     │                   │            │ dense_1[<span style=\"color: #00af00; text-decoration-color: #00af00\">184</span>][<span style=\"color: #00af00; text-decoration-color: #00af00\">0</span>],  │\n",
       "│                     │                   │            │ dense_1[<span style=\"color: #00af00; text-decoration-color: #00af00\">185</span>][<span style=\"color: #00af00; text-decoration-color: #00af00\">0</span>],  │\n",
       "│                     │                   │            │ dense_1[<span style=\"color: #00af00; text-decoration-color: #00af00\">186</span>][<span style=\"color: #00af00; text-decoration-color: #00af00\">0</span>],  │\n",
       "│                     │                   │            │ dense_1[<span style=\"color: #00af00; text-decoration-color: #00af00\">187</span>][<span style=\"color: #00af00; text-decoration-color: #00af00\">0</span>],  │\n",
       "│                     │                   │            │ dense_1[<span style=\"color: #00af00; text-decoration-color: #00af00\">188</span>][<span style=\"color: #00af00; text-decoration-color: #00af00\">0</span>],  │\n",
       "│                     │                   │            │ dense_1[<span style=\"color: #00af00; text-decoration-color: #00af00\">189</span>][<span style=\"color: #00af00; text-decoration-color: #00af00\">0</span>]   │\n",
       "├─────────────────────┼───────────────────┼────────────┼───────────────────┤\n",
       "│ dot (<span style=\"color: #0087ff; text-decoration-color: #0087ff\">Dot</span>)           │ (<span style=\"color: #00d7ff; text-decoration-color: #00d7ff\">None</span>, <span style=\"color: #00af00; text-decoration-color: #00af00\">1</span>, <span style=\"color: #00af00; text-decoration-color: #00af00\">64</span>)     │          <span style=\"color: #00af00; text-decoration-color: #00af00\">0</span> │ attention_weight… │\n",
       "│                     │                   │            │ BiLSTM[<span style=\"color: #00af00; text-decoration-color: #00af00\">0</span>][<span style=\"color: #00af00; text-decoration-color: #00af00\">0</span>],     │\n",
       "│                     │                   │            │ attention_weight… │\n",
       "│                     │                   │            │ BiLSTM[<span style=\"color: #00af00; text-decoration-color: #00af00\">0</span>][<span style=\"color: #00af00; text-decoration-color: #00af00\">0</span>],     │\n",
       "│                     │                   │            │ attention_weight… │\n",
       "│                     │                   │            │ BiLSTM[<span style=\"color: #00af00; text-decoration-color: #00af00\">0</span>][<span style=\"color: #00af00; text-decoration-color: #00af00\">0</span>],     │\n",
       "│                     │                   │            │ attention_weight… │\n",
       "│                     │                   │            │ BiLSTM[<span style=\"color: #00af00; text-decoration-color: #00af00\">0</span>][<span style=\"color: #00af00; text-decoration-color: #00af00\">0</span>],     │\n",
       "│                     │                   │            │ attention_weight… │\n",
       "│                     │                   │            │ BiLSTM[<span style=\"color: #00af00; text-decoration-color: #00af00\">0</span>][<span style=\"color: #00af00; text-decoration-color: #00af00\">0</span>],     │\n",
       "│                     │                   │            │ attention_weight… │\n",
       "│                     │                   │            │ BiLSTM[<span style=\"color: #00af00; text-decoration-color: #00af00\">0</span>][<span style=\"color: #00af00; text-decoration-color: #00af00\">0</span>],     │\n",
       "│                     │                   │            │ attention_weight… │\n",
       "│                     │                   │            │ BiLSTM[<span style=\"color: #00af00; text-decoration-color: #00af00\">0</span>][<span style=\"color: #00af00; text-decoration-color: #00af00\">0</span>],     │\n",
       "│                     │                   │            │ attention_weight… │\n",
       "│                     │                   │            │ BiLSTM[<span style=\"color: #00af00; text-decoration-color: #00af00\">0</span>][<span style=\"color: #00af00; text-decoration-color: #00af00\">0</span>],     │\n",
       "│                     │                   │            │ attention_weight… │\n",
       "│                     │                   │            │ BiLSTM[<span style=\"color: #00af00; text-decoration-color: #00af00\">0</span>][<span style=\"color: #00af00; text-decoration-color: #00af00\">0</span>],     │\n",
       "│                     │                   │            │ attention_weight… │\n",
       "│                     │                   │            │ BiLSTM[<span style=\"color: #00af00; text-decoration-color: #00af00\">0</span>][<span style=\"color: #00af00; text-decoration-color: #00af00\">0</span>]      │\n",
       "├─────────────────────┼───────────────────┼────────────┼───────────────────┤\n",
       "│ c0 (<span style=\"color: #0087ff; text-decoration-color: #0087ff\">InputLayer</span>)     │ (<span style=\"color: #00d7ff; text-decoration-color: #00d7ff\">None</span>, <span style=\"color: #00af00; text-decoration-color: #00af00\">64</span>)        │          <span style=\"color: #00af00; text-decoration-color: #00af00\">0</span> │ -                 │\n",
       "├─────────────────────┼───────────────────┼────────────┼───────────────────┤\n",
       "│ lstm_1 (<span style=\"color: #0087ff; text-decoration-color: #0087ff\">LSTM</span>)       │ [(<span style=\"color: #00d7ff; text-decoration-color: #00d7ff\">None</span>, <span style=\"color: #00af00; text-decoration-color: #00af00\">64</span>),      │     <span style=\"color: #00af00; text-decoration-color: #00af00\">33,024</span> │ dot[<span style=\"color: #00af00; text-decoration-color: #00af00\">180</span>][<span style=\"color: #00af00; text-decoration-color: #00af00\">0</span>],      │\n",
       "│                     │ (<span style=\"color: #00d7ff; text-decoration-color: #00d7ff\">None</span>, <span style=\"color: #00af00; text-decoration-color: #00af00\">64</span>),       │            │ s0[<span style=\"color: #00af00; text-decoration-color: #00af00\">0</span>][<span style=\"color: #00af00; text-decoration-color: #00af00\">0</span>],         │\n",
       "│                     │ (<span style=\"color: #00d7ff; text-decoration-color: #00d7ff\">None</span>, <span style=\"color: #00af00; text-decoration-color: #00af00\">64</span>)]       │            │ c0[<span style=\"color: #00af00; text-decoration-color: #00af00\">0</span>][<span style=\"color: #00af00; text-decoration-color: #00af00\">0</span>],         │\n",
       "│                     │                   │            │ dot[<span style=\"color: #00af00; text-decoration-color: #00af00\">181</span>][<span style=\"color: #00af00; text-decoration-color: #00af00\">0</span>],      │\n",
       "│                     │                   │            │ lstm_1[<span style=\"color: #00af00; text-decoration-color: #00af00\">180</span>][<span style=\"color: #00af00; text-decoration-color: #00af00\">0</span>],   │\n",
       "│                     │                   │            │ lstm_1[<span style=\"color: #00af00; text-decoration-color: #00af00\">180</span>][<span style=\"color: #00af00; text-decoration-color: #00af00\">2</span>],   │\n",
       "│                     │                   │            │ dot[<span style=\"color: #00af00; text-decoration-color: #00af00\">182</span>][<span style=\"color: #00af00; text-decoration-color: #00af00\">0</span>],      │\n",
       "│                     │                   │            │ lstm_1[<span style=\"color: #00af00; text-decoration-color: #00af00\">181</span>][<span style=\"color: #00af00; text-decoration-color: #00af00\">0</span>],   │\n",
       "│                     │                   │            │ lstm_1[<span style=\"color: #00af00; text-decoration-color: #00af00\">181</span>][<span style=\"color: #00af00; text-decoration-color: #00af00\">2</span>],   │\n",
       "│                     │                   │            │ dot[<span style=\"color: #00af00; text-decoration-color: #00af00\">183</span>][<span style=\"color: #00af00; text-decoration-color: #00af00\">0</span>],      │\n",
       "│                     │                   │            │ lstm_1[<span style=\"color: #00af00; text-decoration-color: #00af00\">182</span>][<span style=\"color: #00af00; text-decoration-color: #00af00\">0</span>],   │\n",
       "│                     │                   │            │ lstm_1[<span style=\"color: #00af00; text-decoration-color: #00af00\">182</span>][<span style=\"color: #00af00; text-decoration-color: #00af00\">2</span>],   │\n",
       "│                     │                   │            │ dot[<span style=\"color: #00af00; text-decoration-color: #00af00\">184</span>][<span style=\"color: #00af00; text-decoration-color: #00af00\">0</span>],      │\n",
       "│                     │                   │            │ lstm_1[<span style=\"color: #00af00; text-decoration-color: #00af00\">183</span>][<span style=\"color: #00af00; text-decoration-color: #00af00\">0</span>],   │\n",
       "│                     │                   │            │ lstm_1[<span style=\"color: #00af00; text-decoration-color: #00af00\">183</span>][<span style=\"color: #00af00; text-decoration-color: #00af00\">2</span>],   │\n",
       "│                     │                   │            │ dot[<span style=\"color: #00af00; text-decoration-color: #00af00\">185</span>][<span style=\"color: #00af00; text-decoration-color: #00af00\">0</span>],      │\n",
       "│                     │                   │            │ lstm_1[<span style=\"color: #00af00; text-decoration-color: #00af00\">184</span>][<span style=\"color: #00af00; text-decoration-color: #00af00\">0</span>],   │\n",
       "│                     │                   │            │ lstm_1[<span style=\"color: #00af00; text-decoration-color: #00af00\">184</span>][<span style=\"color: #00af00; text-decoration-color: #00af00\">2</span>],   │\n",
       "│                     │                   │            │ dot[<span style=\"color: #00af00; text-decoration-color: #00af00\">186</span>][<span style=\"color: #00af00; text-decoration-color: #00af00\">0</span>],      │\n",
       "│                     │                   │            │ lstm_1[<span style=\"color: #00af00; text-decoration-color: #00af00\">185</span>][<span style=\"color: #00af00; text-decoration-color: #00af00\">0</span>],   │\n",
       "│                     │                   │            │ lstm_1[<span style=\"color: #00af00; text-decoration-color: #00af00\">185</span>][<span style=\"color: #00af00; text-decoration-color: #00af00\">2</span>],   │\n",
       "│                     │                   │            │ dot[<span style=\"color: #00af00; text-decoration-color: #00af00\">187</span>][<span style=\"color: #00af00; text-decoration-color: #00af00\">0</span>],      │\n",
       "│                     │                   │            │ lstm_1[<span style=\"color: #00af00; text-decoration-color: #00af00\">186</span>][<span style=\"color: #00af00; text-decoration-color: #00af00\">0</span>],   │\n",
       "│                     │                   │            │ lstm_1[<span style=\"color: #00af00; text-decoration-color: #00af00\">186</span>][<span style=\"color: #00af00; text-decoration-color: #00af00\">2</span>],   │\n",
       "│                     │                   │            │ dot[<span style=\"color: #00af00; text-decoration-color: #00af00\">188</span>][<span style=\"color: #00af00; text-decoration-color: #00af00\">0</span>],      │\n",
       "│                     │                   │            │ lstm_1[<span style=\"color: #00af00; text-decoration-color: #00af00\">187</span>][<span style=\"color: #00af00; text-decoration-color: #00af00\">0</span>],   │\n",
       "│                     │                   │            │ lstm_1[<span style=\"color: #00af00; text-decoration-color: #00af00\">187</span>][<span style=\"color: #00af00; text-decoration-color: #00af00\">2</span>],   │\n",
       "│                     │                   │            │ dot[<span style=\"color: #00af00; text-decoration-color: #00af00\">189</span>][<span style=\"color: #00af00; text-decoration-color: #00af00\">0</span>],      │\n",
       "│                     │                   │            │ lstm_1[<span style=\"color: #00af00; text-decoration-color: #00af00\">188</span>][<span style=\"color: #00af00; text-decoration-color: #00af00\">0</span>],   │\n",
       "│                     │                   │            │ lstm_1[<span style=\"color: #00af00; text-decoration-color: #00af00\">188</span>][<span style=\"color: #00af00; text-decoration-color: #00af00\">2</span>]    │\n",
       "├─────────────────────┼───────────────────┼────────────┼───────────────────┤\n",
       "│ dense_3 (<span style=\"color: #0087ff; text-decoration-color: #0087ff\">Dense</span>)     │ (<span style=\"color: #00d7ff; text-decoration-color: #00d7ff\">None</span>, <span style=\"color: #00af00; text-decoration-color: #00af00\">11</span>)        │        <span style=\"color: #00af00; text-decoration-color: #00af00\">715</span> │ lstm_1[<span style=\"color: #00af00; text-decoration-color: #00af00\">180</span>][<span style=\"color: #00af00; text-decoration-color: #00af00\">0</span>],   │\n",
       "│                     │                   │            │ lstm_1[<span style=\"color: #00af00; text-decoration-color: #00af00\">181</span>][<span style=\"color: #00af00; text-decoration-color: #00af00\">0</span>],   │\n",
       "│                     │                   │            │ lstm_1[<span style=\"color: #00af00; text-decoration-color: #00af00\">182</span>][<span style=\"color: #00af00; text-decoration-color: #00af00\">0</span>],   │\n",
       "│                     │                   │            │ lstm_1[<span style=\"color: #00af00; text-decoration-color: #00af00\">183</span>][<span style=\"color: #00af00; text-decoration-color: #00af00\">0</span>],   │\n",
       "│                     │                   │            │ lstm_1[<span style=\"color: #00af00; text-decoration-color: #00af00\">184</span>][<span style=\"color: #00af00; text-decoration-color: #00af00\">0</span>],   │\n",
       "│                     │                   │            │ lstm_1[<span style=\"color: #00af00; text-decoration-color: #00af00\">185</span>][<span style=\"color: #00af00; text-decoration-color: #00af00\">0</span>],   │\n",
       "│                     │                   │            │ lstm_1[<span style=\"color: #00af00; text-decoration-color: #00af00\">186</span>][<span style=\"color: #00af00; text-decoration-color: #00af00\">0</span>],   │\n",
       "│                     │                   │            │ lstm_1[<span style=\"color: #00af00; text-decoration-color: #00af00\">187</span>][<span style=\"color: #00af00; text-decoration-color: #00af00\">0</span>],   │\n",
       "│                     │                   │            │ lstm_1[<span style=\"color: #00af00; text-decoration-color: #00af00\">188</span>][<span style=\"color: #00af00; text-decoration-color: #00af00\">0</span>],   │\n",
       "│                     │                   │            │ lstm_1[<span style=\"color: #00af00; text-decoration-color: #00af00\">189</span>][<span style=\"color: #00af00; text-decoration-color: #00af00\">0</span>]    │\n",
       "└─────────────────────┴───────────────────┴────────────┴───────────────────┘\n",
       "</pre>\n"
      ],
      "text/plain": [
       "┏━━━━━━━━━━━━━━━━━━━━━┳━━━━━━━━━━━━━━━━━━━┳━━━━━━━━━━━━┳━━━━━━━━━━━━━━━━━━━┓\n",
       "┃\u001b[1m \u001b[0m\u001b[1mLayer (type)       \u001b[0m\u001b[1m \u001b[0m┃\u001b[1m \u001b[0m\u001b[1mOutput Shape     \u001b[0m\u001b[1m \u001b[0m┃\u001b[1m \u001b[0m\u001b[1m   Param #\u001b[0m\u001b[1m \u001b[0m┃\u001b[1m \u001b[0m\u001b[1mConnected to     \u001b[0m\u001b[1m \u001b[0m┃\n",
       "┡━━━━━━━━━━━━━━━━━━━━━╇━━━━━━━━━━━━━━━━━━━╇━━━━━━━━━━━━╇━━━━━━━━━━━━━━━━━━━┩\n",
       "│ Input_Sequence      │ (\u001b[38;5;45mNone\u001b[0m, \u001b[38;5;34m30\u001b[0m, \u001b[38;5;34m37\u001b[0m)    │          \u001b[38;5;34m0\u001b[0m │ -                 │\n",
       "│ (\u001b[38;5;33mInputLayer\u001b[0m)        │                   │            │                   │\n",
       "├─────────────────────┼───────────────────┼────────────┼───────────────────┤\n",
       "│ s0 (\u001b[38;5;33mInputLayer\u001b[0m)     │ (\u001b[38;5;45mNone\u001b[0m, \u001b[38;5;34m64\u001b[0m)        │          \u001b[38;5;34m0\u001b[0m │ -                 │\n",
       "├─────────────────────┼───────────────────┼────────────┼───────────────────┤\n",
       "│ BiLSTM              │ (\u001b[38;5;45mNone\u001b[0m, \u001b[38;5;34m30\u001b[0m, \u001b[38;5;34m64\u001b[0m)    │     \u001b[38;5;34m17,920\u001b[0m │ Input_Sequence[\u001b[38;5;34m0\u001b[0m… │\n",
       "│ (\u001b[38;5;33mBidirectional\u001b[0m)     │                   │            │                   │\n",
       "├─────────────────────┼───────────────────┼────────────┼───────────────────┤\n",
       "│ repeat_vector       │ (\u001b[38;5;45mNone\u001b[0m, \u001b[38;5;34m30\u001b[0m, \u001b[38;5;34m64\u001b[0m)    │          \u001b[38;5;34m0\u001b[0m │ s0[\u001b[38;5;34m0\u001b[0m][\u001b[38;5;34m0\u001b[0m],         │\n",
       "│ (\u001b[38;5;33mRepeatVector\u001b[0m)      │                   │            │ lstm_1[\u001b[38;5;34m180\u001b[0m][\u001b[38;5;34m0\u001b[0m],   │\n",
       "│                     │                   │            │ lstm_1[\u001b[38;5;34m181\u001b[0m][\u001b[38;5;34m0\u001b[0m],   │\n",
       "│                     │                   │            │ lstm_1[\u001b[38;5;34m182\u001b[0m][\u001b[38;5;34m0\u001b[0m],   │\n",
       "│                     │                   │            │ lstm_1[\u001b[38;5;34m183\u001b[0m][\u001b[38;5;34m0\u001b[0m],   │\n",
       "│                     │                   │            │ lstm_1[\u001b[38;5;34m184\u001b[0m][\u001b[38;5;34m0\u001b[0m],   │\n",
       "│                     │                   │            │ lstm_1[\u001b[38;5;34m185\u001b[0m][\u001b[38;5;34m0\u001b[0m],   │\n",
       "│                     │                   │            │ lstm_1[\u001b[38;5;34m186\u001b[0m][\u001b[38;5;34m0\u001b[0m],   │\n",
       "│                     │                   │            │ lstm_1[\u001b[38;5;34m187\u001b[0m][\u001b[38;5;34m0\u001b[0m],   │\n",
       "│                     │                   │            │ lstm_1[\u001b[38;5;34m188\u001b[0m][\u001b[38;5;34m0\u001b[0m]    │\n",
       "├─────────────────────┼───────────────────┼────────────┼───────────────────┤\n",
       "│ concatenate         │ (\u001b[38;5;45mNone\u001b[0m, \u001b[38;5;34m30\u001b[0m, \u001b[38;5;34m128\u001b[0m)   │          \u001b[38;5;34m0\u001b[0m │ BiLSTM[\u001b[38;5;34m0\u001b[0m][\u001b[38;5;34m0\u001b[0m],     │\n",
       "│ (\u001b[38;5;33mConcatenate\u001b[0m)       │                   │            │ repeat_vector[\u001b[38;5;34m18…\u001b[0m │\n",
       "│                     │                   │            │ BiLSTM[\u001b[38;5;34m0\u001b[0m][\u001b[38;5;34m0\u001b[0m],     │\n",
       "│                     │                   │            │ repeat_vector[\u001b[38;5;34m18…\u001b[0m │\n",
       "│                     │                   │            │ BiLSTM[\u001b[38;5;34m0\u001b[0m][\u001b[38;5;34m0\u001b[0m],     │\n",
       "│                     │                   │            │ repeat_vector[\u001b[38;5;34m18…\u001b[0m │\n",
       "│                     │                   │            │ BiLSTM[\u001b[38;5;34m0\u001b[0m][\u001b[38;5;34m0\u001b[0m],     │\n",
       "│                     │                   │            │ repeat_vector[\u001b[38;5;34m18…\u001b[0m │\n",
       "│                     │                   │            │ BiLSTM[\u001b[38;5;34m0\u001b[0m][\u001b[38;5;34m0\u001b[0m],     │\n",
       "│                     │                   │            │ repeat_vector[\u001b[38;5;34m18…\u001b[0m │\n",
       "│                     │                   │            │ BiLSTM[\u001b[38;5;34m0\u001b[0m][\u001b[38;5;34m0\u001b[0m],     │\n",
       "│                     │                   │            │ repeat_vector[\u001b[38;5;34m18…\u001b[0m │\n",
       "│                     │                   │            │ BiLSTM[\u001b[38;5;34m0\u001b[0m][\u001b[38;5;34m0\u001b[0m],     │\n",
       "│                     │                   │            │ repeat_vector[\u001b[38;5;34m18…\u001b[0m │\n",
       "│                     │                   │            │ BiLSTM[\u001b[38;5;34m0\u001b[0m][\u001b[38;5;34m0\u001b[0m],     │\n",
       "│                     │                   │            │ repeat_vector[\u001b[38;5;34m18…\u001b[0m │\n",
       "│                     │                   │            │ BiLSTM[\u001b[38;5;34m0\u001b[0m][\u001b[38;5;34m0\u001b[0m],     │\n",
       "│                     │                   │            │ repeat_vector[\u001b[38;5;34m18…\u001b[0m │\n",
       "│                     │                   │            │ BiLSTM[\u001b[38;5;34m0\u001b[0m][\u001b[38;5;34m0\u001b[0m],     │\n",
       "│                     │                   │            │ repeat_vector[\u001b[38;5;34m18…\u001b[0m │\n",
       "├─────────────────────┼───────────────────┼────────────┼───────────────────┤\n",
       "│ dense (\u001b[38;5;33mDense\u001b[0m)       │ (\u001b[38;5;45mNone\u001b[0m, \u001b[38;5;34m30\u001b[0m, \u001b[38;5;34m10\u001b[0m)    │      \u001b[38;5;34m1,290\u001b[0m │ concatenate[\u001b[38;5;34m180\u001b[0m]… │\n",
       "│                     │                   │            │ concatenate[\u001b[38;5;34m181\u001b[0m]… │\n",
       "│                     │                   │            │ concatenate[\u001b[38;5;34m182\u001b[0m]… │\n",
       "│                     │                   │            │ concatenate[\u001b[38;5;34m183\u001b[0m]… │\n",
       "│                     │                   │            │ concatenate[\u001b[38;5;34m184\u001b[0m]… │\n",
       "│                     │                   │            │ concatenate[\u001b[38;5;34m185\u001b[0m]… │\n",
       "│                     │                   │            │ concatenate[\u001b[38;5;34m186\u001b[0m]… │\n",
       "│                     │                   │            │ concatenate[\u001b[38;5;34m187\u001b[0m]… │\n",
       "│                     │                   │            │ concatenate[\u001b[38;5;34m188\u001b[0m]… │\n",
       "│                     │                   │            │ concatenate[\u001b[38;5;34m189\u001b[0m]… │\n",
       "├─────────────────────┼───────────────────┼────────────┼───────────────────┤\n",
       "│ dense_1 (\u001b[38;5;33mDense\u001b[0m)     │ (\u001b[38;5;45mNone\u001b[0m, \u001b[38;5;34m30\u001b[0m, \u001b[38;5;34m1\u001b[0m)     │         \u001b[38;5;34m11\u001b[0m │ dense[\u001b[38;5;34m180\u001b[0m][\u001b[38;5;34m0\u001b[0m],    │\n",
       "│                     │                   │            │ dense[\u001b[38;5;34m181\u001b[0m][\u001b[38;5;34m0\u001b[0m],    │\n",
       "│                     │                   │            │ dense[\u001b[38;5;34m182\u001b[0m][\u001b[38;5;34m0\u001b[0m],    │\n",
       "│                     │                   │            │ dense[\u001b[38;5;34m183\u001b[0m][\u001b[38;5;34m0\u001b[0m],    │\n",
       "│                     │                   │            │ dense[\u001b[38;5;34m184\u001b[0m][\u001b[38;5;34m0\u001b[0m],    │\n",
       "│                     │                   │            │ dense[\u001b[38;5;34m185\u001b[0m][\u001b[38;5;34m0\u001b[0m],    │\n",
       "│                     │                   │            │ dense[\u001b[38;5;34m186\u001b[0m][\u001b[38;5;34m0\u001b[0m],    │\n",
       "│                     │                   │            │ dense[\u001b[38;5;34m187\u001b[0m][\u001b[38;5;34m0\u001b[0m],    │\n",
       "│                     │                   │            │ dense[\u001b[38;5;34m188\u001b[0m][\u001b[38;5;34m0\u001b[0m],    │\n",
       "│                     │                   │            │ dense[\u001b[38;5;34m189\u001b[0m][\u001b[38;5;34m0\u001b[0m]     │\n",
       "├─────────────────────┼───────────────────┼────────────┼───────────────────┤\n",
       "│ attention_weights   │ (\u001b[38;5;45mNone\u001b[0m, \u001b[38;5;34m30\u001b[0m, \u001b[38;5;34m1\u001b[0m)     │          \u001b[38;5;34m0\u001b[0m │ dense_1[\u001b[38;5;34m180\u001b[0m][\u001b[38;5;34m0\u001b[0m],  │\n",
       "│ (\u001b[38;5;33mActivation\u001b[0m)        │                   │            │ dense_1[\u001b[38;5;34m181\u001b[0m][\u001b[38;5;34m0\u001b[0m],  │\n",
       "│                     │                   │            │ dense_1[\u001b[38;5;34m182\u001b[0m][\u001b[38;5;34m0\u001b[0m],  │\n",
       "│                     │                   │            │ dense_1[\u001b[38;5;34m183\u001b[0m][\u001b[38;5;34m0\u001b[0m],  │\n",
       "│                     │                   │            │ dense_1[\u001b[38;5;34m184\u001b[0m][\u001b[38;5;34m0\u001b[0m],  │\n",
       "│                     │                   │            │ dense_1[\u001b[38;5;34m185\u001b[0m][\u001b[38;5;34m0\u001b[0m],  │\n",
       "│                     │                   │            │ dense_1[\u001b[38;5;34m186\u001b[0m][\u001b[38;5;34m0\u001b[0m],  │\n",
       "│                     │                   │            │ dense_1[\u001b[38;5;34m187\u001b[0m][\u001b[38;5;34m0\u001b[0m],  │\n",
       "│                     │                   │            │ dense_1[\u001b[38;5;34m188\u001b[0m][\u001b[38;5;34m0\u001b[0m],  │\n",
       "│                     │                   │            │ dense_1[\u001b[38;5;34m189\u001b[0m][\u001b[38;5;34m0\u001b[0m]   │\n",
       "├─────────────────────┼───────────────────┼────────────┼───────────────────┤\n",
       "│ dot (\u001b[38;5;33mDot\u001b[0m)           │ (\u001b[38;5;45mNone\u001b[0m, \u001b[38;5;34m1\u001b[0m, \u001b[38;5;34m64\u001b[0m)     │          \u001b[38;5;34m0\u001b[0m │ attention_weight… │\n",
       "│                     │                   │            │ BiLSTM[\u001b[38;5;34m0\u001b[0m][\u001b[38;5;34m0\u001b[0m],     │\n",
       "│                     │                   │            │ attention_weight… │\n",
       "│                     │                   │            │ BiLSTM[\u001b[38;5;34m0\u001b[0m][\u001b[38;5;34m0\u001b[0m],     │\n",
       "│                     │                   │            │ attention_weight… │\n",
       "│                     │                   │            │ BiLSTM[\u001b[38;5;34m0\u001b[0m][\u001b[38;5;34m0\u001b[0m],     │\n",
       "│                     │                   │            │ attention_weight… │\n",
       "│                     │                   │            │ BiLSTM[\u001b[38;5;34m0\u001b[0m][\u001b[38;5;34m0\u001b[0m],     │\n",
       "│                     │                   │            │ attention_weight… │\n",
       "│                     │                   │            │ BiLSTM[\u001b[38;5;34m0\u001b[0m][\u001b[38;5;34m0\u001b[0m],     │\n",
       "│                     │                   │            │ attention_weight… │\n",
       "│                     │                   │            │ BiLSTM[\u001b[38;5;34m0\u001b[0m][\u001b[38;5;34m0\u001b[0m],     │\n",
       "│                     │                   │            │ attention_weight… │\n",
       "│                     │                   │            │ BiLSTM[\u001b[38;5;34m0\u001b[0m][\u001b[38;5;34m0\u001b[0m],     │\n",
       "│                     │                   │            │ attention_weight… │\n",
       "│                     │                   │            │ BiLSTM[\u001b[38;5;34m0\u001b[0m][\u001b[38;5;34m0\u001b[0m],     │\n",
       "│                     │                   │            │ attention_weight… │\n",
       "│                     │                   │            │ BiLSTM[\u001b[38;5;34m0\u001b[0m][\u001b[38;5;34m0\u001b[0m],     │\n",
       "│                     │                   │            │ attention_weight… │\n",
       "│                     │                   │            │ BiLSTM[\u001b[38;5;34m0\u001b[0m][\u001b[38;5;34m0\u001b[0m]      │\n",
       "├─────────────────────┼───────────────────┼────────────┼───────────────────┤\n",
       "│ c0 (\u001b[38;5;33mInputLayer\u001b[0m)     │ (\u001b[38;5;45mNone\u001b[0m, \u001b[38;5;34m64\u001b[0m)        │          \u001b[38;5;34m0\u001b[0m │ -                 │\n",
       "├─────────────────────┼───────────────────┼────────────┼───────────────────┤\n",
       "│ lstm_1 (\u001b[38;5;33mLSTM\u001b[0m)       │ [(\u001b[38;5;45mNone\u001b[0m, \u001b[38;5;34m64\u001b[0m),      │     \u001b[38;5;34m33,024\u001b[0m │ dot[\u001b[38;5;34m180\u001b[0m][\u001b[38;5;34m0\u001b[0m],      │\n",
       "│                     │ (\u001b[38;5;45mNone\u001b[0m, \u001b[38;5;34m64\u001b[0m),       │            │ s0[\u001b[38;5;34m0\u001b[0m][\u001b[38;5;34m0\u001b[0m],         │\n",
       "│                     │ (\u001b[38;5;45mNone\u001b[0m, \u001b[38;5;34m64\u001b[0m)]       │            │ c0[\u001b[38;5;34m0\u001b[0m][\u001b[38;5;34m0\u001b[0m],         │\n",
       "│                     │                   │            │ dot[\u001b[38;5;34m181\u001b[0m][\u001b[38;5;34m0\u001b[0m],      │\n",
       "│                     │                   │            │ lstm_1[\u001b[38;5;34m180\u001b[0m][\u001b[38;5;34m0\u001b[0m],   │\n",
       "│                     │                   │            │ lstm_1[\u001b[38;5;34m180\u001b[0m][\u001b[38;5;34m2\u001b[0m],   │\n",
       "│                     │                   │            │ dot[\u001b[38;5;34m182\u001b[0m][\u001b[38;5;34m0\u001b[0m],      │\n",
       "│                     │                   │            │ lstm_1[\u001b[38;5;34m181\u001b[0m][\u001b[38;5;34m0\u001b[0m],   │\n",
       "│                     │                   │            │ lstm_1[\u001b[38;5;34m181\u001b[0m][\u001b[38;5;34m2\u001b[0m],   │\n",
       "│                     │                   │            │ dot[\u001b[38;5;34m183\u001b[0m][\u001b[38;5;34m0\u001b[0m],      │\n",
       "│                     │                   │            │ lstm_1[\u001b[38;5;34m182\u001b[0m][\u001b[38;5;34m0\u001b[0m],   │\n",
       "│                     │                   │            │ lstm_1[\u001b[38;5;34m182\u001b[0m][\u001b[38;5;34m2\u001b[0m],   │\n",
       "│                     │                   │            │ dot[\u001b[38;5;34m184\u001b[0m][\u001b[38;5;34m0\u001b[0m],      │\n",
       "│                     │                   │            │ lstm_1[\u001b[38;5;34m183\u001b[0m][\u001b[38;5;34m0\u001b[0m],   │\n",
       "│                     │                   │            │ lstm_1[\u001b[38;5;34m183\u001b[0m][\u001b[38;5;34m2\u001b[0m],   │\n",
       "│                     │                   │            │ dot[\u001b[38;5;34m185\u001b[0m][\u001b[38;5;34m0\u001b[0m],      │\n",
       "│                     │                   │            │ lstm_1[\u001b[38;5;34m184\u001b[0m][\u001b[38;5;34m0\u001b[0m],   │\n",
       "│                     │                   │            │ lstm_1[\u001b[38;5;34m184\u001b[0m][\u001b[38;5;34m2\u001b[0m],   │\n",
       "│                     │                   │            │ dot[\u001b[38;5;34m186\u001b[0m][\u001b[38;5;34m0\u001b[0m],      │\n",
       "│                     │                   │            │ lstm_1[\u001b[38;5;34m185\u001b[0m][\u001b[38;5;34m0\u001b[0m],   │\n",
       "│                     │                   │            │ lstm_1[\u001b[38;5;34m185\u001b[0m][\u001b[38;5;34m2\u001b[0m],   │\n",
       "│                     │                   │            │ dot[\u001b[38;5;34m187\u001b[0m][\u001b[38;5;34m0\u001b[0m],      │\n",
       "│                     │                   │            │ lstm_1[\u001b[38;5;34m186\u001b[0m][\u001b[38;5;34m0\u001b[0m],   │\n",
       "│                     │                   │            │ lstm_1[\u001b[38;5;34m186\u001b[0m][\u001b[38;5;34m2\u001b[0m],   │\n",
       "│                     │                   │            │ dot[\u001b[38;5;34m188\u001b[0m][\u001b[38;5;34m0\u001b[0m],      │\n",
       "│                     │                   │            │ lstm_1[\u001b[38;5;34m187\u001b[0m][\u001b[38;5;34m0\u001b[0m],   │\n",
       "│                     │                   │            │ lstm_1[\u001b[38;5;34m187\u001b[0m][\u001b[38;5;34m2\u001b[0m],   │\n",
       "│                     │                   │            │ dot[\u001b[38;5;34m189\u001b[0m][\u001b[38;5;34m0\u001b[0m],      │\n",
       "│                     │                   │            │ lstm_1[\u001b[38;5;34m188\u001b[0m][\u001b[38;5;34m0\u001b[0m],   │\n",
       "│                     │                   │            │ lstm_1[\u001b[38;5;34m188\u001b[0m][\u001b[38;5;34m2\u001b[0m]    │\n",
       "├─────────────────────┼───────────────────┼────────────┼───────────────────┤\n",
       "│ dense_3 (\u001b[38;5;33mDense\u001b[0m)     │ (\u001b[38;5;45mNone\u001b[0m, \u001b[38;5;34m11\u001b[0m)        │        \u001b[38;5;34m715\u001b[0m │ lstm_1[\u001b[38;5;34m180\u001b[0m][\u001b[38;5;34m0\u001b[0m],   │\n",
       "│                     │                   │            │ lstm_1[\u001b[38;5;34m181\u001b[0m][\u001b[38;5;34m0\u001b[0m],   │\n",
       "│                     │                   │            │ lstm_1[\u001b[38;5;34m182\u001b[0m][\u001b[38;5;34m0\u001b[0m],   │\n",
       "│                     │                   │            │ lstm_1[\u001b[38;5;34m183\u001b[0m][\u001b[38;5;34m0\u001b[0m],   │\n",
       "│                     │                   │            │ lstm_1[\u001b[38;5;34m184\u001b[0m][\u001b[38;5;34m0\u001b[0m],   │\n",
       "│                     │                   │            │ lstm_1[\u001b[38;5;34m185\u001b[0m][\u001b[38;5;34m0\u001b[0m],   │\n",
       "│                     │                   │            │ lstm_1[\u001b[38;5;34m186\u001b[0m][\u001b[38;5;34m0\u001b[0m],   │\n",
       "│                     │                   │            │ lstm_1[\u001b[38;5;34m187\u001b[0m][\u001b[38;5;34m0\u001b[0m],   │\n",
       "│                     │                   │            │ lstm_1[\u001b[38;5;34m188\u001b[0m][\u001b[38;5;34m0\u001b[0m],   │\n",
       "│                     │                   │            │ lstm_1[\u001b[38;5;34m189\u001b[0m][\u001b[38;5;34m0\u001b[0m]    │\n",
       "└─────────────────────┴───────────────────┴────────────┴───────────────────┘\n"
      ]
     },
     "metadata": {},
     "output_type": "display_data"
    },
    {
     "data": {
      "text/html": [
       "<pre style=\"white-space:pre;overflow-x:auto;line-height:normal;font-family:Menlo,'DejaVu Sans Mono',consolas,'Courier New',monospace\"><span style=\"font-weight: bold\"> Total params: </span><span style=\"color: #00af00; text-decoration-color: #00af00\">52,960</span> (206.88 KB)\n",
       "</pre>\n"
      ],
      "text/plain": [
       "\u001b[1m Total params: \u001b[0m\u001b[38;5;34m52,960\u001b[0m (206.88 KB)\n"
      ]
     },
     "metadata": {},
     "output_type": "display_data"
    },
    {
     "data": {
      "text/html": [
       "<pre style=\"white-space:pre;overflow-x:auto;line-height:normal;font-family:Menlo,'DejaVu Sans Mono',consolas,'Courier New',monospace\"><span style=\"font-weight: bold\"> Trainable params: </span><span style=\"color: #00af00; text-decoration-color: #00af00\">52,960</span> (206.88 KB)\n",
       "</pre>\n"
      ],
      "text/plain": [
       "\u001b[1m Trainable params: \u001b[0m\u001b[38;5;34m52,960\u001b[0m (206.88 KB)\n"
      ]
     },
     "metadata": {},
     "output_type": "display_data"
    },
    {
     "data": {
      "text/html": [
       "<pre style=\"white-space:pre;overflow-x:auto;line-height:normal;font-family:Menlo,'DejaVu Sans Mono',consolas,'Courier New',monospace\"><span style=\"font-weight: bold\"> Non-trainable params: </span><span style=\"color: #00af00; text-decoration-color: #00af00\">0</span> (0.00 B)\n",
       "</pre>\n"
      ],
      "text/plain": [
       "\u001b[1m Non-trainable params: \u001b[0m\u001b[38;5;34m0\u001b[0m (0.00 B)\n"
      ]
     },
     "metadata": {},
     "output_type": "display_data"
    }
   ],
   "source": [
    "model.summary()"
   ]
  },
  {
   "cell_type": "markdown",
   "metadata": {},
   "source": [
    "<a id='4-3-3'></a>\n",
    "\n",
    "### 4.3.3. Model Compilation\n",
    "\n",
    "In this section, we define the process of compiling the model after its creation in Keras. The compilation step involves specifying the loss function, optimizer, and evaluation metrics to guide the training process.\n",
    "\n",
    "- **Loss Function**: The chosen loss function is *categorical crossentropy*, commonly used for multi-class classification tasks.\n",
    "\n",
    "- **Optimizer**: The Adam optimizer is selected for its adaptive learning rate properties, which help to accelerate convergence. The specific parameters used in this case are:\n",
    "  - Learning rate: 0.005\n",
    "  - $\\beta_1 = 0.9$ (first moment decay)\n",
    "  - $\\beta_2 = 0.999$ (second moment decay)\n",
    "  - Decay: 0.01 (learning rate decay over each epoch)\n",
    "\n",
    "- **Metric**: The model performance is evaluated using *accuracy*, which is a standard metric for classification tasks."
   ]
  },
  {
   "cell_type": "code",
   "execution_count": 57,
   "metadata": {},
   "outputs": [],
   "source": [
    "from tensorflow.keras.optimizers import Adam\n",
    "from tensorflow.keras.optimizers.schedules import ExponentialDecay\n",
    "\n",
    "# Define the initial learning rate\n",
    "initial_learning_rate = 0.005\n",
    "\n",
    "# Set up the ExponentialDecay schedule\n",
    "lr_schedule = ExponentialDecay(\n",
    "    initial_learning_rate=initial_learning_rate,\n",
    "    decay_steps=10000,  # Number of steps before decay\n",
    "    decay_rate=0.96,    # The rate at which the learning rate decays\n",
    "    staircase=True      # If True, it applies the decay in discrete steps\n",
    ")\n",
    "\n",
    "# Use the learning rate schedule in the optimizer and add beta_1, beta_2\n",
    "opt = Adam(\n",
    "    learning_rate=lr_schedule,\n",
    "    beta_1=0.9,  # Exponential decay rate for the first moment estimate\n",
    "    beta_2=0.999, # Exponential decay rate for the second moment estimate\n",
    ")\n",
    "\n",
    "# Compile the model with the updated optimizer\n",
    "model.compile(optimizer=opt,\n",
    "              loss='categorical_crossentropy',\n",
    "              metrics=[tf.keras.metrics.CategoricalAccuracy()]*10)\n"
   ]
  },
  {
   "cell_type": "code",
   "execution_count": 58,
   "metadata": {},
   "outputs": [
    {
     "name": "stdout",
     "output_type": "stream",
     "text": [
      "\u001b[92mAll tests passed!\n"
     ]
    }
   ],
   "source": [
    "# UNIT TESTS\n",
    "assert opt.learning_rate == 0.005, \"Set the lr parameter to 0.005\"\n",
    "assert opt.beta_1 == 0.9, \"Set the beta_1 parameter to 0.9\"\n",
    "assert opt.beta_2 == 0.999, \"Set the beta_2 parameter to 0.999\"\n",
    "assert model.loss == \"categorical_crossentropy\", \"Wrong loss. Use 'categorical_crossentropy'\"\n",
    "assert model.optimizer == opt, \"Use the optimizer that you have instantiated\"\n",
    "print(\"\\033[92mAll tests passed!\")"
   ]
  },
  {
   "cell_type": "markdown",
   "metadata": {},
   "source": [
    "<a id=\"5\"></a>\n",
    "<h1 style=\"background: #FFC07F; border: 0; color: #2F2E41; \n",
    "    box-shadow: 4px 4px 8px rgba(0, 0, 0, 0.3); \n",
    "    padding: 10px; border-radius: 10px; margin: 15px 0;\">\n",
    "    <center style=\"color: #2F2E41;\">5. Training the model</center>\n",
    "</h1>"
   ]
  },
  {
   "cell_type": "markdown",
   "metadata": {},
   "source": [
    "<a id=\"5-1\"> </a>\n",
    "\n",
    "## 5.1. Define Inputs and Outputs, and Fit the Model\n",
    "\n",
    "The next step involves defining the inputs and outputs necessary for training the model. The following considerations are made:\n",
    "\n",
    "- **Inputs**: The input data, denoted as $X$, has a shape of $(m = 10000, T_x = 30)$, where $m$ represents the number of training examples, and $T_x$ is the sequence length for each example. Each element of $X$ corresponds to a sequence of features for a training sample.\n",
    "\n",
    "- **State Initialization**: To initialize the `post_attention_LSTM_cell`, we define the initial states `s_0` and `c_0`, which are set to zero. These initializations are required to set the initial hidden and cell states of the LSTM before training begins.\n",
    "\n",
    "- **Outputs**: The target outputs, denoted as `outputs`, consist of a list of 10 elements, each with a shape of $(m, T_y)$. Each element in the list corresponds to the true labels for the characters in the sequences. Specifically, for each training example $X[i]$, the list `outputs[i][0], ..., outputs[i][T_y]` represents the true labels for the sequence of characters. Each $outputs[i][j]$ corresponds to the true label of the $j^{th}$ character in the $i^{th}$ training example.\n"
   ]
  },
  {
   "cell_type": "code",
   "execution_count": 59,
   "metadata": {},
   "outputs": [],
   "source": [
    "s0 = np.zeros((m, n_s))\n",
    "c0 = np.zeros((m, n_s))\n",
    "outputs = list(Yoh.swapaxes(0,1))"
   ]
  },
  {
   "cell_type": "markdown",
   "metadata": {},
   "source": [
    "Let's now fit the model and run it for one epoch."
   ]
  },
  {
   "cell_type": "code",
   "execution_count": 60,
   "metadata": {},
   "outputs": [
    {
     "name": "stdout",
     "output_type": "stream",
     "text": [
      "\u001b[1m100/100\u001b[0m \u001b[32m━━━━━━━━━━━━━━━━━━━━\u001b[0m\u001b[37m\u001b[0m \u001b[1m28s\u001b[0m 84ms/step - dense_3_categorical_accuracy: 0.3079 - dense_3_categorical_accuracy_1: 0.3079 - dense_3_categorical_accuracy_2: 0.3079 - dense_3_categorical_accuracy_3: 0.3079 - dense_3_categorical_accuracy_4: 0.3079 - dense_3_categorical_accuracy_5: 0.3079 - dense_3_categorical_accuracy_6: 0.3079 - dense_3_categorical_accuracy_7: 0.3079 - dense_3_categorical_accuracy_8: 0.3079 - dense_3_categorical_accuracy_9: 0.3079 - dense_3_loss: 2.6840 - loss: 19.6320\n"
     ]
    },
    {
     "data": {
      "text/plain": [
       "<keras.src.callbacks.history.History at 0x795361e31190>"
      ]
     },
     "execution_count": 60,
     "metadata": {},
     "output_type": "execute_result"
    }
   ],
   "source": [
    "model.fit([Xoh, s0, c0], outputs, epochs=1, batch_size=100)"
   ]
  },
  {
   "cell_type": "markdown",
   "metadata": {},
   "source": [
    "While training, it is possible to monitor both the loss and accuracy for each of the 10 positions in the output sequence. The table below illustrates an example of the accuracies that could be observed if the batch contained 2 training examples:\n",
    "\n",
    "\n",
    "<div style=\"text-align: center;\">\n",
    "  <img src=\"https://raw.githubusercontent.com/umermjd11/DLC5M3A1/master/images/table.png\" style=\"width:700;height:200px;\">\n",
    "  <br>\n",
    "  <caption>\n",
    "    <font color=\"#00796b\" style=\"font-size: 1.2em; font-weight: bold;\">\n",
    "      For instance, `dense_2_acc_8: 0.89` indicates that the model is correctly predicting the 7th character of the output with an accuracy of 89% for the current batch of data.\n",
    "    </font>\n",
    "  </caption>\n",
    "</div>\n",
    "\n",
    "After training the model for an extended period, the weights have been saved. To save time, we will load the pre-trained weights by running the next cell. Although training a model for several minutes will yield similar accuracy, loading the pre-trained model will expedite the process.\n"
   ]
  },
  {
   "cell_type": "code",
   "execution_count": 62,
   "metadata": {},
   "outputs": [],
   "source": [
    "model.load_weights('models/model.h5')"
   ]
  },
  {
   "cell_type": "markdown",
   "metadata": {},
   "source": [
    "We can now see the results on new examples."
   ]
  },
  {
   "cell_type": "code",
   "execution_count": 63,
   "metadata": {},
   "outputs": [
    {
     "name": "stdout",
     "output_type": "stream",
     "text": [
      "\u001b[1m1/1\u001b[0m \u001b[32m━━━━━━━━━━━━━━━━━━━━\u001b[0m\u001b[37m\u001b[0m \u001b[1m2s\u001b[0m 2s/step\n",
      "source: 3 May 1979\n",
      "output: 1979-05-33 \n",
      "\n",
      "\u001b[1m1/1\u001b[0m \u001b[32m━━━━━━━━━━━━━━━━━━━━\u001b[0m\u001b[37m\u001b[0m \u001b[1m0s\u001b[0m 29ms/step\n",
      "source: 5 April 09\n",
      "output: 2009-04-05 \n",
      "\n",
      "\u001b[1m1/1\u001b[0m \u001b[32m━━━━━━━━━━━━━━━━━━━━\u001b[0m\u001b[37m\u001b[0m \u001b[1m0s\u001b[0m 29ms/step\n"
     ]
    },
    {
     "name": "stderr",
     "output_type": "stream",
     "text": [
      "/tmp/ipykernel_64278/2649609632.py:12: DeprecationWarning: Conversion of an array with ndim > 0 to a scalar is deprecated, and will error in future. Ensure you extract a single element from your array before performing this operation. (Deprecated NumPy 1.25.)\n",
      "  output = [inv_machine_vocab[int(i)] for i in prediction]\n"
     ]
    },
    {
     "name": "stdout",
     "output_type": "stream",
     "text": [
      "source: 21th of August 2016\n",
      "output: 2016-08-20 \n",
      "\n",
      "\u001b[1m1/1\u001b[0m \u001b[32m━━━━━━━━━━━━━━━━━━━━\u001b[0m\u001b[37m\u001b[0m \u001b[1m0s\u001b[0m 29ms/step\n",
      "source: Tue 10 Jul 2007\n",
      "output: 2007-07-10 \n",
      "\n",
      "\u001b[1m1/1\u001b[0m \u001b[32m━━━━━━━━━━━━━━━━━━━━\u001b[0m\u001b[37m\u001b[0m \u001b[1m0s\u001b[0m 30ms/step\n",
      "source: Saturday May 9 2018\n",
      "output: 2018-05-09 \n",
      "\n",
      "\u001b[1m1/1\u001b[0m \u001b[32m━━━━━━━━━━━━━━━━━━━━\u001b[0m\u001b[37m\u001b[0m \u001b[1m0s\u001b[0m 29ms/step\n",
      "source: March 3 2001\n",
      "output: 2001-03-03 \n",
      "\n",
      "\u001b[1m1/1\u001b[0m \u001b[32m━━━━━━━━━━━━━━━━━━━━\u001b[0m\u001b[37m\u001b[0m \u001b[1m0s\u001b[0m 29ms/step\n",
      "source: March 3rd 2001\n",
      "output: 2001-03-03 \n",
      "\n",
      "\u001b[1m1/1\u001b[0m \u001b[32m━━━━━━━━━━━━━━━━━━━━\u001b[0m\u001b[37m\u001b[0m \u001b[1m0s\u001b[0m 30ms/step\n",
      "source: 1 March 2001\n",
      "output: 2001-03-01 \n",
      "\n"
     ]
    }
   ],
   "source": [
    "EXAMPLES = ['3 May 1979', '5 April 09', '21th of August 2016', 'Tue 10 Jul 2007', 'Saturday May 9 2018', 'March 3 2001', 'March 3rd 2001', '1 March 2001']\n",
    "s00 = np.zeros((1, n_s))\n",
    "c00 = np.zeros((1, n_s))\n",
    "for example in EXAMPLES:\n",
    "    source = string_to_int(example, Tx, human_vocab)\n",
    "    #print(source)\n",
    "    source = np.array(list(map(lambda x: to_categorical(x, num_classes=len(human_vocab)), source))).swapaxes(0,1)\n",
    "    source = np.swapaxes(source, 0, 1)\n",
    "    source = np.expand_dims(source, axis=0)\n",
    "    prediction = model.predict([source, s00, c00])\n",
    "    prediction = np.argmax(prediction, axis = -1)\n",
    "    output = [inv_machine_vocab[int(i)] for i in prediction]\n",
    "    print(\"source:\", example)\n",
    "    print(\"output:\", ''.join(output),\"\\n\")"
   ]
  },
  {
   "cell_type": "code",
   "execution_count": 64,
   "metadata": {},
   "outputs": [
    {
     "name": "stdout",
     "output_type": "stream",
     "text": [
      "\u001b[1m1/1\u001b[0m \u001b[32m━━━━━━━━━━━━━━━━━━━━\u001b[0m\u001b[37m\u001b[0m \u001b[1m0s\u001b[0m 27ms/step\n",
      "source: 4th of july 2001\n",
      "output: 2001-07-04 \n",
      "\n"
     ]
    },
    {
     "name": "stderr",
     "output_type": "stream",
     "text": [
      "/tmp/ipykernel_64278/329283865.py:8: DeprecationWarning: Conversion of an array with ndim > 0 to a scalar is deprecated, and will error in future. Ensure you extract a single element from your array before performing this operation. (Deprecated NumPy 1.25.)\n",
      "  output = [inv_machine_vocab[int(i)] for i in prediction]\n"
     ]
    }
   ],
   "source": [
    "def translate_date(sentence):\n",
    "    source = string_to_int(sentence, Tx, human_vocab)\n",
    "    source = np.array(list(map(lambda x: to_categorical(x, num_classes=len(human_vocab)), source))).swapaxes(0,1)\n",
    "    source = np.swapaxes(source, 0, 1)\n",
    "    source = np.expand_dims(source, axis=0)\n",
    "    prediction = model.predict([source, s00, c00])\n",
    "    prediction = np.argmax(prediction, axis = -1)\n",
    "    output = [inv_machine_vocab[int(i)] for i in prediction]\n",
    "    print(\"source:\", sentence)\n",
    "    print(\"output:\", ''.join(output),\"\\n\")\n",
    "example = \"4th of july 2001\"\n",
    "translate_date(example)"
   ]
  },
  {
   "cell_type": "markdown",
   "metadata": {},
   "source": [
    "We may also modify these examples to test the model with our own data. The subsequent section will provide deeper insights into the attention mechanism, specifically illustrating which part of the input the network is focusing on when generating a particular output character.\n"
   ]
  },
  {
   "cell_type": "markdown",
   "metadata": {},
   "source": [
    "<a id=\"6\"></a>\n",
    "\n",
    "<h1 style=\"background: #FFC07F; border: 0; color: #2F2E41; \n",
    "    box-shadow: 4px 4px 8px rgba(0, 0, 0, 0.3); \n",
    "    padding: 10px; border-radius: 10px; margin: 15px 0;\">\n",
    "    <center style=\"color: #2F2E41;\">6. Visualizing Attention</center>\n",
    "</h1>"
   ]
  },
  {
   "cell_type": "markdown",
   "metadata": {},
   "source": [
    "Although the task could be approached by using 10 separate softmax units to generate the 10 characters of the output (given the fixed output length), the attention model offers a distinct advantage. Specifically, the attention mechanism allows each part of the output to focus only on a relevant subset of the input, improving the model’s efficiency and accuracy in mapping input to output.\n",
    "\n",
    "To illustrate this, consider the task of translating \"Saturday 9 May 2018\" into \"2018-05-09\". By visualizing the computed attention weights, $\\alpha^{\\langle t, t' \\rangle}$, we obtain the following attention map:\n",
    "\n",
    "\n",
    "<div style=\"text-align: center;\">\n",
    "  <img src=\"https://raw.githubusercontent.com/umermjd11/DLC5M3A1/master/images/date_attention.png\" style=\"width:600;height:300px;\">\n",
    "  <br>\n",
    "  <caption>\n",
    "    <font color=\"#00796b\" style=\"font-size: 1.2em; font-weight: bold;\">\n",
    "      <b>Figure 8</b>: Full Attention Map\n",
    "    </font>\n",
    "  </caption>\n",
    "</div>\n",
    "\n",
    "As shown in the attention map, the model largely ignores the \"Saturday\" portion of the input, as none of the output timesteps pay significant attention to it. We also observe that the number \"9\" is correctly translated as \"09\", and \"May\" is translated into \"05\". The attention mechanism allows the model to focus on the necessary portions of the input, enabling it to accurately generate the output. Notably, the year \"2018\" is primarily constructed by attending to the \"18\" in the input, reflecting the model’s ability to learn dependencies between different parts of the input and output.\n"
   ]
  },
  {
   "cell_type": "markdown",
   "metadata": {},
   "source": [
    "<a id='6-1'></a>\n",
    "\n",
    "## 6.1 - Extracting the Attention Weights from the Network\n",
    "\n",
    "In this section, we focus on visualizing the attention values learned by the network. To achieve this, we will propagate an example through the network and then extract the attention weights, denoted as $\\alpha^{\\langle t, t' \\rangle}$.\n",
    "\n",
    "To begin, we will print a summary of the model to identify the components and layers involved in the attention mechanism.\n"
   ]
  },
  {
   "cell_type": "code",
   "execution_count": 65,
   "metadata": {},
   "outputs": [
    {
     "data": {
      "text/html": [
       "<pre style=\"white-space:pre;overflow-x:auto;line-height:normal;font-family:Menlo,'DejaVu Sans Mono',consolas,'Courier New',monospace\"><span style=\"font-weight: bold\">Model: \"Attention_Model\"</span>\n",
       "</pre>\n"
      ],
      "text/plain": [
       "\u001b[1mModel: \"Attention_Model\"\u001b[0m\n"
      ]
     },
     "metadata": {},
     "output_type": "display_data"
    },
    {
     "data": {
      "text/html": [
       "<pre style=\"white-space:pre;overflow-x:auto;line-height:normal;font-family:Menlo,'DejaVu Sans Mono',consolas,'Courier New',monospace\">┏━━━━━━━━━━━━━━━━━━━━━┳━━━━━━━━━━━━━━━━━━━┳━━━━━━━━━━━━┳━━━━━━━━━━━━━━━━━━━┓\n",
       "┃<span style=\"font-weight: bold\"> Layer (type)        </span>┃<span style=\"font-weight: bold\"> Output Shape      </span>┃<span style=\"font-weight: bold\">    Param # </span>┃<span style=\"font-weight: bold\"> Connected to      </span>┃\n",
       "┡━━━━━━━━━━━━━━━━━━━━━╇━━━━━━━━━━━━━━━━━━━╇━━━━━━━━━━━━╇━━━━━━━━━━━━━━━━━━━┩\n",
       "│ Input_Sequence      │ (<span style=\"color: #00d7ff; text-decoration-color: #00d7ff\">None</span>, <span style=\"color: #00af00; text-decoration-color: #00af00\">30</span>, <span style=\"color: #00af00; text-decoration-color: #00af00\">37</span>)    │          <span style=\"color: #00af00; text-decoration-color: #00af00\">0</span> │ -                 │\n",
       "│ (<span style=\"color: #0087ff; text-decoration-color: #0087ff\">InputLayer</span>)        │                   │            │                   │\n",
       "├─────────────────────┼───────────────────┼────────────┼───────────────────┤\n",
       "│ s0 (<span style=\"color: #0087ff; text-decoration-color: #0087ff\">InputLayer</span>)     │ (<span style=\"color: #00d7ff; text-decoration-color: #00d7ff\">None</span>, <span style=\"color: #00af00; text-decoration-color: #00af00\">64</span>)        │          <span style=\"color: #00af00; text-decoration-color: #00af00\">0</span> │ -                 │\n",
       "├─────────────────────┼───────────────────┼────────────┼───────────────────┤\n",
       "│ BiLSTM              │ (<span style=\"color: #00d7ff; text-decoration-color: #00d7ff\">None</span>, <span style=\"color: #00af00; text-decoration-color: #00af00\">30</span>, <span style=\"color: #00af00; text-decoration-color: #00af00\">64</span>)    │     <span style=\"color: #00af00; text-decoration-color: #00af00\">17,920</span> │ Input_Sequence[<span style=\"color: #00af00; text-decoration-color: #00af00\">0</span>… │\n",
       "│ (<span style=\"color: #0087ff; text-decoration-color: #0087ff\">Bidirectional</span>)     │                   │            │                   │\n",
       "├─────────────────────┼───────────────────┼────────────┼───────────────────┤\n",
       "│ repeat_vector       │ (<span style=\"color: #00d7ff; text-decoration-color: #00d7ff\">None</span>, <span style=\"color: #00af00; text-decoration-color: #00af00\">30</span>, <span style=\"color: #00af00; text-decoration-color: #00af00\">64</span>)    │          <span style=\"color: #00af00; text-decoration-color: #00af00\">0</span> │ s0[<span style=\"color: #00af00; text-decoration-color: #00af00\">0</span>][<span style=\"color: #00af00; text-decoration-color: #00af00\">0</span>],         │\n",
       "│ (<span style=\"color: #0087ff; text-decoration-color: #0087ff\">RepeatVector</span>)      │                   │            │ lstm_1[<span style=\"color: #00af00; text-decoration-color: #00af00\">180</span>][<span style=\"color: #00af00; text-decoration-color: #00af00\">0</span>],   │\n",
       "│                     │                   │            │ lstm_1[<span style=\"color: #00af00; text-decoration-color: #00af00\">181</span>][<span style=\"color: #00af00; text-decoration-color: #00af00\">0</span>],   │\n",
       "│                     │                   │            │ lstm_1[<span style=\"color: #00af00; text-decoration-color: #00af00\">182</span>][<span style=\"color: #00af00; text-decoration-color: #00af00\">0</span>],   │\n",
       "│                     │                   │            │ lstm_1[<span style=\"color: #00af00; text-decoration-color: #00af00\">183</span>][<span style=\"color: #00af00; text-decoration-color: #00af00\">0</span>],   │\n",
       "│                     │                   │            │ lstm_1[<span style=\"color: #00af00; text-decoration-color: #00af00\">184</span>][<span style=\"color: #00af00; text-decoration-color: #00af00\">0</span>],   │\n",
       "│                     │                   │            │ lstm_1[<span style=\"color: #00af00; text-decoration-color: #00af00\">185</span>][<span style=\"color: #00af00; text-decoration-color: #00af00\">0</span>],   │\n",
       "│                     │                   │            │ lstm_1[<span style=\"color: #00af00; text-decoration-color: #00af00\">186</span>][<span style=\"color: #00af00; text-decoration-color: #00af00\">0</span>],   │\n",
       "│                     │                   │            │ lstm_1[<span style=\"color: #00af00; text-decoration-color: #00af00\">187</span>][<span style=\"color: #00af00; text-decoration-color: #00af00\">0</span>],   │\n",
       "│                     │                   │            │ lstm_1[<span style=\"color: #00af00; text-decoration-color: #00af00\">188</span>][<span style=\"color: #00af00; text-decoration-color: #00af00\">0</span>]    │\n",
       "├─────────────────────┼───────────────────┼────────────┼───────────────────┤\n",
       "│ concatenate         │ (<span style=\"color: #00d7ff; text-decoration-color: #00d7ff\">None</span>, <span style=\"color: #00af00; text-decoration-color: #00af00\">30</span>, <span style=\"color: #00af00; text-decoration-color: #00af00\">128</span>)   │          <span style=\"color: #00af00; text-decoration-color: #00af00\">0</span> │ BiLSTM[<span style=\"color: #00af00; text-decoration-color: #00af00\">0</span>][<span style=\"color: #00af00; text-decoration-color: #00af00\">0</span>],     │\n",
       "│ (<span style=\"color: #0087ff; text-decoration-color: #0087ff\">Concatenate</span>)       │                   │            │ repeat_vector[<span style=\"color: #00af00; text-decoration-color: #00af00\">18…</span> │\n",
       "│                     │                   │            │ BiLSTM[<span style=\"color: #00af00; text-decoration-color: #00af00\">0</span>][<span style=\"color: #00af00; text-decoration-color: #00af00\">0</span>],     │\n",
       "│                     │                   │            │ repeat_vector[<span style=\"color: #00af00; text-decoration-color: #00af00\">18…</span> │\n",
       "│                     │                   │            │ BiLSTM[<span style=\"color: #00af00; text-decoration-color: #00af00\">0</span>][<span style=\"color: #00af00; text-decoration-color: #00af00\">0</span>],     │\n",
       "│                     │                   │            │ repeat_vector[<span style=\"color: #00af00; text-decoration-color: #00af00\">18…</span> │\n",
       "│                     │                   │            │ BiLSTM[<span style=\"color: #00af00; text-decoration-color: #00af00\">0</span>][<span style=\"color: #00af00; text-decoration-color: #00af00\">0</span>],     │\n",
       "│                     │                   │            │ repeat_vector[<span style=\"color: #00af00; text-decoration-color: #00af00\">18…</span> │\n",
       "│                     │                   │            │ BiLSTM[<span style=\"color: #00af00; text-decoration-color: #00af00\">0</span>][<span style=\"color: #00af00; text-decoration-color: #00af00\">0</span>],     │\n",
       "│                     │                   │            │ repeat_vector[<span style=\"color: #00af00; text-decoration-color: #00af00\">18…</span> │\n",
       "│                     │                   │            │ BiLSTM[<span style=\"color: #00af00; text-decoration-color: #00af00\">0</span>][<span style=\"color: #00af00; text-decoration-color: #00af00\">0</span>],     │\n",
       "│                     │                   │            │ repeat_vector[<span style=\"color: #00af00; text-decoration-color: #00af00\">18…</span> │\n",
       "│                     │                   │            │ BiLSTM[<span style=\"color: #00af00; text-decoration-color: #00af00\">0</span>][<span style=\"color: #00af00; text-decoration-color: #00af00\">0</span>],     │\n",
       "│                     │                   │            │ repeat_vector[<span style=\"color: #00af00; text-decoration-color: #00af00\">18…</span> │\n",
       "│                     │                   │            │ BiLSTM[<span style=\"color: #00af00; text-decoration-color: #00af00\">0</span>][<span style=\"color: #00af00; text-decoration-color: #00af00\">0</span>],     │\n",
       "│                     │                   │            │ repeat_vector[<span style=\"color: #00af00; text-decoration-color: #00af00\">18…</span> │\n",
       "│                     │                   │            │ BiLSTM[<span style=\"color: #00af00; text-decoration-color: #00af00\">0</span>][<span style=\"color: #00af00; text-decoration-color: #00af00\">0</span>],     │\n",
       "│                     │                   │            │ repeat_vector[<span style=\"color: #00af00; text-decoration-color: #00af00\">18…</span> │\n",
       "│                     │                   │            │ BiLSTM[<span style=\"color: #00af00; text-decoration-color: #00af00\">0</span>][<span style=\"color: #00af00; text-decoration-color: #00af00\">0</span>],     │\n",
       "│                     │                   │            │ repeat_vector[<span style=\"color: #00af00; text-decoration-color: #00af00\">18…</span> │\n",
       "├─────────────────────┼───────────────────┼────────────┼───────────────────┤\n",
       "│ dense (<span style=\"color: #0087ff; text-decoration-color: #0087ff\">Dense</span>)       │ (<span style=\"color: #00d7ff; text-decoration-color: #00d7ff\">None</span>, <span style=\"color: #00af00; text-decoration-color: #00af00\">30</span>, <span style=\"color: #00af00; text-decoration-color: #00af00\">10</span>)    │      <span style=\"color: #00af00; text-decoration-color: #00af00\">1,290</span> │ concatenate[<span style=\"color: #00af00; text-decoration-color: #00af00\">180</span>]… │\n",
       "│                     │                   │            │ concatenate[<span style=\"color: #00af00; text-decoration-color: #00af00\">181</span>]… │\n",
       "│                     │                   │            │ concatenate[<span style=\"color: #00af00; text-decoration-color: #00af00\">182</span>]… │\n",
       "│                     │                   │            │ concatenate[<span style=\"color: #00af00; text-decoration-color: #00af00\">183</span>]… │\n",
       "│                     │                   │            │ concatenate[<span style=\"color: #00af00; text-decoration-color: #00af00\">184</span>]… │\n",
       "│                     │                   │            │ concatenate[<span style=\"color: #00af00; text-decoration-color: #00af00\">185</span>]… │\n",
       "│                     │                   │            │ concatenate[<span style=\"color: #00af00; text-decoration-color: #00af00\">186</span>]… │\n",
       "│                     │                   │            │ concatenate[<span style=\"color: #00af00; text-decoration-color: #00af00\">187</span>]… │\n",
       "│                     │                   │            │ concatenate[<span style=\"color: #00af00; text-decoration-color: #00af00\">188</span>]… │\n",
       "│                     │                   │            │ concatenate[<span style=\"color: #00af00; text-decoration-color: #00af00\">189</span>]… │\n",
       "├─────────────────────┼───────────────────┼────────────┼───────────────────┤\n",
       "│ dense_1 (<span style=\"color: #0087ff; text-decoration-color: #0087ff\">Dense</span>)     │ (<span style=\"color: #00d7ff; text-decoration-color: #00d7ff\">None</span>, <span style=\"color: #00af00; text-decoration-color: #00af00\">30</span>, <span style=\"color: #00af00; text-decoration-color: #00af00\">1</span>)     │         <span style=\"color: #00af00; text-decoration-color: #00af00\">11</span> │ dense[<span style=\"color: #00af00; text-decoration-color: #00af00\">180</span>][<span style=\"color: #00af00; text-decoration-color: #00af00\">0</span>],    │\n",
       "│                     │                   │            │ dense[<span style=\"color: #00af00; text-decoration-color: #00af00\">181</span>][<span style=\"color: #00af00; text-decoration-color: #00af00\">0</span>],    │\n",
       "│                     │                   │            │ dense[<span style=\"color: #00af00; text-decoration-color: #00af00\">182</span>][<span style=\"color: #00af00; text-decoration-color: #00af00\">0</span>],    │\n",
       "│                     │                   │            │ dense[<span style=\"color: #00af00; text-decoration-color: #00af00\">183</span>][<span style=\"color: #00af00; text-decoration-color: #00af00\">0</span>],    │\n",
       "│                     │                   │            │ dense[<span style=\"color: #00af00; text-decoration-color: #00af00\">184</span>][<span style=\"color: #00af00; text-decoration-color: #00af00\">0</span>],    │\n",
       "│                     │                   │            │ dense[<span style=\"color: #00af00; text-decoration-color: #00af00\">185</span>][<span style=\"color: #00af00; text-decoration-color: #00af00\">0</span>],    │\n",
       "│                     │                   │            │ dense[<span style=\"color: #00af00; text-decoration-color: #00af00\">186</span>][<span style=\"color: #00af00; text-decoration-color: #00af00\">0</span>],    │\n",
       "│                     │                   │            │ dense[<span style=\"color: #00af00; text-decoration-color: #00af00\">187</span>][<span style=\"color: #00af00; text-decoration-color: #00af00\">0</span>],    │\n",
       "│                     │                   │            │ dense[<span style=\"color: #00af00; text-decoration-color: #00af00\">188</span>][<span style=\"color: #00af00; text-decoration-color: #00af00\">0</span>],    │\n",
       "│                     │                   │            │ dense[<span style=\"color: #00af00; text-decoration-color: #00af00\">189</span>][<span style=\"color: #00af00; text-decoration-color: #00af00\">0</span>]     │\n",
       "├─────────────────────┼───────────────────┼────────────┼───────────────────┤\n",
       "│ attention_weights   │ (<span style=\"color: #00d7ff; text-decoration-color: #00d7ff\">None</span>, <span style=\"color: #00af00; text-decoration-color: #00af00\">30</span>, <span style=\"color: #00af00; text-decoration-color: #00af00\">1</span>)     │          <span style=\"color: #00af00; text-decoration-color: #00af00\">0</span> │ dense_1[<span style=\"color: #00af00; text-decoration-color: #00af00\">180</span>][<span style=\"color: #00af00; text-decoration-color: #00af00\">0</span>],  │\n",
       "│ (<span style=\"color: #0087ff; text-decoration-color: #0087ff\">Activation</span>)        │                   │            │ dense_1[<span style=\"color: #00af00; text-decoration-color: #00af00\">181</span>][<span style=\"color: #00af00; text-decoration-color: #00af00\">0</span>],  │\n",
       "│                     │                   │            │ dense_1[<span style=\"color: #00af00; text-decoration-color: #00af00\">182</span>][<span style=\"color: #00af00; text-decoration-color: #00af00\">0</span>],  │\n",
       "│                     │                   │            │ dense_1[<span style=\"color: #00af00; text-decoration-color: #00af00\">183</span>][<span style=\"color: #00af00; text-decoration-color: #00af00\">0</span>],  │\n",
       "│                     │                   │            │ dense_1[<span style=\"color: #00af00; text-decoration-color: #00af00\">184</span>][<span style=\"color: #00af00; text-decoration-color: #00af00\">0</span>],  │\n",
       "│                     │                   │            │ dense_1[<span style=\"color: #00af00; text-decoration-color: #00af00\">185</span>][<span style=\"color: #00af00; text-decoration-color: #00af00\">0</span>],  │\n",
       "│                     │                   │            │ dense_1[<span style=\"color: #00af00; text-decoration-color: #00af00\">186</span>][<span style=\"color: #00af00; text-decoration-color: #00af00\">0</span>],  │\n",
       "│                     │                   │            │ dense_1[<span style=\"color: #00af00; text-decoration-color: #00af00\">187</span>][<span style=\"color: #00af00; text-decoration-color: #00af00\">0</span>],  │\n",
       "│                     │                   │            │ dense_1[<span style=\"color: #00af00; text-decoration-color: #00af00\">188</span>][<span style=\"color: #00af00; text-decoration-color: #00af00\">0</span>],  │\n",
       "│                     │                   │            │ dense_1[<span style=\"color: #00af00; text-decoration-color: #00af00\">189</span>][<span style=\"color: #00af00; text-decoration-color: #00af00\">0</span>]   │\n",
       "├─────────────────────┼───────────────────┼────────────┼───────────────────┤\n",
       "│ dot (<span style=\"color: #0087ff; text-decoration-color: #0087ff\">Dot</span>)           │ (<span style=\"color: #00d7ff; text-decoration-color: #00d7ff\">None</span>, <span style=\"color: #00af00; text-decoration-color: #00af00\">1</span>, <span style=\"color: #00af00; text-decoration-color: #00af00\">64</span>)     │          <span style=\"color: #00af00; text-decoration-color: #00af00\">0</span> │ attention_weight… │\n",
       "│                     │                   │            │ BiLSTM[<span style=\"color: #00af00; text-decoration-color: #00af00\">0</span>][<span style=\"color: #00af00; text-decoration-color: #00af00\">0</span>],     │\n",
       "│                     │                   │            │ attention_weight… │\n",
       "│                     │                   │            │ BiLSTM[<span style=\"color: #00af00; text-decoration-color: #00af00\">0</span>][<span style=\"color: #00af00; text-decoration-color: #00af00\">0</span>],     │\n",
       "│                     │                   │            │ attention_weight… │\n",
       "│                     │                   │            │ BiLSTM[<span style=\"color: #00af00; text-decoration-color: #00af00\">0</span>][<span style=\"color: #00af00; text-decoration-color: #00af00\">0</span>],     │\n",
       "│                     │                   │            │ attention_weight… │\n",
       "│                     │                   │            │ BiLSTM[<span style=\"color: #00af00; text-decoration-color: #00af00\">0</span>][<span style=\"color: #00af00; text-decoration-color: #00af00\">0</span>],     │\n",
       "│                     │                   │            │ attention_weight… │\n",
       "│                     │                   │            │ BiLSTM[<span style=\"color: #00af00; text-decoration-color: #00af00\">0</span>][<span style=\"color: #00af00; text-decoration-color: #00af00\">0</span>],     │\n",
       "│                     │                   │            │ attention_weight… │\n",
       "│                     │                   │            │ BiLSTM[<span style=\"color: #00af00; text-decoration-color: #00af00\">0</span>][<span style=\"color: #00af00; text-decoration-color: #00af00\">0</span>],     │\n",
       "│                     │                   │            │ attention_weight… │\n",
       "│                     │                   │            │ BiLSTM[<span style=\"color: #00af00; text-decoration-color: #00af00\">0</span>][<span style=\"color: #00af00; text-decoration-color: #00af00\">0</span>],     │\n",
       "│                     │                   │            │ attention_weight… │\n",
       "│                     │                   │            │ BiLSTM[<span style=\"color: #00af00; text-decoration-color: #00af00\">0</span>][<span style=\"color: #00af00; text-decoration-color: #00af00\">0</span>],     │\n",
       "│                     │                   │            │ attention_weight… │\n",
       "│                     │                   │            │ BiLSTM[<span style=\"color: #00af00; text-decoration-color: #00af00\">0</span>][<span style=\"color: #00af00; text-decoration-color: #00af00\">0</span>],     │\n",
       "│                     │                   │            │ attention_weight… │\n",
       "│                     │                   │            │ BiLSTM[<span style=\"color: #00af00; text-decoration-color: #00af00\">0</span>][<span style=\"color: #00af00; text-decoration-color: #00af00\">0</span>]      │\n",
       "├─────────────────────┼───────────────────┼────────────┼───────────────────┤\n",
       "│ c0 (<span style=\"color: #0087ff; text-decoration-color: #0087ff\">InputLayer</span>)     │ (<span style=\"color: #00d7ff; text-decoration-color: #00d7ff\">None</span>, <span style=\"color: #00af00; text-decoration-color: #00af00\">64</span>)        │          <span style=\"color: #00af00; text-decoration-color: #00af00\">0</span> │ -                 │\n",
       "├─────────────────────┼───────────────────┼────────────┼───────────────────┤\n",
       "│ lstm_1 (<span style=\"color: #0087ff; text-decoration-color: #0087ff\">LSTM</span>)       │ [(<span style=\"color: #00d7ff; text-decoration-color: #00d7ff\">None</span>, <span style=\"color: #00af00; text-decoration-color: #00af00\">64</span>),      │     <span style=\"color: #00af00; text-decoration-color: #00af00\">33,024</span> │ dot[<span style=\"color: #00af00; text-decoration-color: #00af00\">180</span>][<span style=\"color: #00af00; text-decoration-color: #00af00\">0</span>],      │\n",
       "│                     │ (<span style=\"color: #00d7ff; text-decoration-color: #00d7ff\">None</span>, <span style=\"color: #00af00; text-decoration-color: #00af00\">64</span>),       │            │ s0[<span style=\"color: #00af00; text-decoration-color: #00af00\">0</span>][<span style=\"color: #00af00; text-decoration-color: #00af00\">0</span>],         │\n",
       "│                     │ (<span style=\"color: #00d7ff; text-decoration-color: #00d7ff\">None</span>, <span style=\"color: #00af00; text-decoration-color: #00af00\">64</span>)]       │            │ c0[<span style=\"color: #00af00; text-decoration-color: #00af00\">0</span>][<span style=\"color: #00af00; text-decoration-color: #00af00\">0</span>],         │\n",
       "│                     │                   │            │ dot[<span style=\"color: #00af00; text-decoration-color: #00af00\">181</span>][<span style=\"color: #00af00; text-decoration-color: #00af00\">0</span>],      │\n",
       "│                     │                   │            │ lstm_1[<span style=\"color: #00af00; text-decoration-color: #00af00\">180</span>][<span style=\"color: #00af00; text-decoration-color: #00af00\">0</span>],   │\n",
       "│                     │                   │            │ lstm_1[<span style=\"color: #00af00; text-decoration-color: #00af00\">180</span>][<span style=\"color: #00af00; text-decoration-color: #00af00\">2</span>],   │\n",
       "│                     │                   │            │ dot[<span style=\"color: #00af00; text-decoration-color: #00af00\">182</span>][<span style=\"color: #00af00; text-decoration-color: #00af00\">0</span>],      │\n",
       "│                     │                   │            │ lstm_1[<span style=\"color: #00af00; text-decoration-color: #00af00\">181</span>][<span style=\"color: #00af00; text-decoration-color: #00af00\">0</span>],   │\n",
       "│                     │                   │            │ lstm_1[<span style=\"color: #00af00; text-decoration-color: #00af00\">181</span>][<span style=\"color: #00af00; text-decoration-color: #00af00\">2</span>],   │\n",
       "│                     │                   │            │ dot[<span style=\"color: #00af00; text-decoration-color: #00af00\">183</span>][<span style=\"color: #00af00; text-decoration-color: #00af00\">0</span>],      │\n",
       "│                     │                   │            │ lstm_1[<span style=\"color: #00af00; text-decoration-color: #00af00\">182</span>][<span style=\"color: #00af00; text-decoration-color: #00af00\">0</span>],   │\n",
       "│                     │                   │            │ lstm_1[<span style=\"color: #00af00; text-decoration-color: #00af00\">182</span>][<span style=\"color: #00af00; text-decoration-color: #00af00\">2</span>],   │\n",
       "│                     │                   │            │ dot[<span style=\"color: #00af00; text-decoration-color: #00af00\">184</span>][<span style=\"color: #00af00; text-decoration-color: #00af00\">0</span>],      │\n",
       "│                     │                   │            │ lstm_1[<span style=\"color: #00af00; text-decoration-color: #00af00\">183</span>][<span style=\"color: #00af00; text-decoration-color: #00af00\">0</span>],   │\n",
       "│                     │                   │            │ lstm_1[<span style=\"color: #00af00; text-decoration-color: #00af00\">183</span>][<span style=\"color: #00af00; text-decoration-color: #00af00\">2</span>],   │\n",
       "│                     │                   │            │ dot[<span style=\"color: #00af00; text-decoration-color: #00af00\">185</span>][<span style=\"color: #00af00; text-decoration-color: #00af00\">0</span>],      │\n",
       "│                     │                   │            │ lstm_1[<span style=\"color: #00af00; text-decoration-color: #00af00\">184</span>][<span style=\"color: #00af00; text-decoration-color: #00af00\">0</span>],   │\n",
       "│                     │                   │            │ lstm_1[<span style=\"color: #00af00; text-decoration-color: #00af00\">184</span>][<span style=\"color: #00af00; text-decoration-color: #00af00\">2</span>],   │\n",
       "│                     │                   │            │ dot[<span style=\"color: #00af00; text-decoration-color: #00af00\">186</span>][<span style=\"color: #00af00; text-decoration-color: #00af00\">0</span>],      │\n",
       "│                     │                   │            │ lstm_1[<span style=\"color: #00af00; text-decoration-color: #00af00\">185</span>][<span style=\"color: #00af00; text-decoration-color: #00af00\">0</span>],   │\n",
       "│                     │                   │            │ lstm_1[<span style=\"color: #00af00; text-decoration-color: #00af00\">185</span>][<span style=\"color: #00af00; text-decoration-color: #00af00\">2</span>],   │\n",
       "│                     │                   │            │ dot[<span style=\"color: #00af00; text-decoration-color: #00af00\">187</span>][<span style=\"color: #00af00; text-decoration-color: #00af00\">0</span>],      │\n",
       "│                     │                   │            │ lstm_1[<span style=\"color: #00af00; text-decoration-color: #00af00\">186</span>][<span style=\"color: #00af00; text-decoration-color: #00af00\">0</span>],   │\n",
       "│                     │                   │            │ lstm_1[<span style=\"color: #00af00; text-decoration-color: #00af00\">186</span>][<span style=\"color: #00af00; text-decoration-color: #00af00\">2</span>],   │\n",
       "│                     │                   │            │ dot[<span style=\"color: #00af00; text-decoration-color: #00af00\">188</span>][<span style=\"color: #00af00; text-decoration-color: #00af00\">0</span>],      │\n",
       "│                     │                   │            │ lstm_1[<span style=\"color: #00af00; text-decoration-color: #00af00\">187</span>][<span style=\"color: #00af00; text-decoration-color: #00af00\">0</span>],   │\n",
       "│                     │                   │            │ lstm_1[<span style=\"color: #00af00; text-decoration-color: #00af00\">187</span>][<span style=\"color: #00af00; text-decoration-color: #00af00\">2</span>],   │\n",
       "│                     │                   │            │ dot[<span style=\"color: #00af00; text-decoration-color: #00af00\">189</span>][<span style=\"color: #00af00; text-decoration-color: #00af00\">0</span>],      │\n",
       "│                     │                   │            │ lstm_1[<span style=\"color: #00af00; text-decoration-color: #00af00\">188</span>][<span style=\"color: #00af00; text-decoration-color: #00af00\">0</span>],   │\n",
       "│                     │                   │            │ lstm_1[<span style=\"color: #00af00; text-decoration-color: #00af00\">188</span>][<span style=\"color: #00af00; text-decoration-color: #00af00\">2</span>]    │\n",
       "├─────────────────────┼───────────────────┼────────────┼───────────────────┤\n",
       "│ dense_3 (<span style=\"color: #0087ff; text-decoration-color: #0087ff\">Dense</span>)     │ (<span style=\"color: #00d7ff; text-decoration-color: #00d7ff\">None</span>, <span style=\"color: #00af00; text-decoration-color: #00af00\">11</span>)        │        <span style=\"color: #00af00; text-decoration-color: #00af00\">715</span> │ lstm_1[<span style=\"color: #00af00; text-decoration-color: #00af00\">180</span>][<span style=\"color: #00af00; text-decoration-color: #00af00\">0</span>],   │\n",
       "│                     │                   │            │ lstm_1[<span style=\"color: #00af00; text-decoration-color: #00af00\">181</span>][<span style=\"color: #00af00; text-decoration-color: #00af00\">0</span>],   │\n",
       "│                     │                   │            │ lstm_1[<span style=\"color: #00af00; text-decoration-color: #00af00\">182</span>][<span style=\"color: #00af00; text-decoration-color: #00af00\">0</span>],   │\n",
       "│                     │                   │            │ lstm_1[<span style=\"color: #00af00; text-decoration-color: #00af00\">183</span>][<span style=\"color: #00af00; text-decoration-color: #00af00\">0</span>],   │\n",
       "│                     │                   │            │ lstm_1[<span style=\"color: #00af00; text-decoration-color: #00af00\">184</span>][<span style=\"color: #00af00; text-decoration-color: #00af00\">0</span>],   │\n",
       "│                     │                   │            │ lstm_1[<span style=\"color: #00af00; text-decoration-color: #00af00\">185</span>][<span style=\"color: #00af00; text-decoration-color: #00af00\">0</span>],   │\n",
       "│                     │                   │            │ lstm_1[<span style=\"color: #00af00; text-decoration-color: #00af00\">186</span>][<span style=\"color: #00af00; text-decoration-color: #00af00\">0</span>],   │\n",
       "│                     │                   │            │ lstm_1[<span style=\"color: #00af00; text-decoration-color: #00af00\">187</span>][<span style=\"color: #00af00; text-decoration-color: #00af00\">0</span>],   │\n",
       "│                     │                   │            │ lstm_1[<span style=\"color: #00af00; text-decoration-color: #00af00\">188</span>][<span style=\"color: #00af00; text-decoration-color: #00af00\">0</span>],   │\n",
       "│                     │                   │            │ lstm_1[<span style=\"color: #00af00; text-decoration-color: #00af00\">189</span>][<span style=\"color: #00af00; text-decoration-color: #00af00\">0</span>]    │\n",
       "└─────────────────────┴───────────────────┴────────────┴───────────────────┘\n",
       "</pre>\n"
      ],
      "text/plain": [
       "┏━━━━━━━━━━━━━━━━━━━━━┳━━━━━━━━━━━━━━━━━━━┳━━━━━━━━━━━━┳━━━━━━━━━━━━━━━━━━━┓\n",
       "┃\u001b[1m \u001b[0m\u001b[1mLayer (type)       \u001b[0m\u001b[1m \u001b[0m┃\u001b[1m \u001b[0m\u001b[1mOutput Shape     \u001b[0m\u001b[1m \u001b[0m┃\u001b[1m \u001b[0m\u001b[1m   Param #\u001b[0m\u001b[1m \u001b[0m┃\u001b[1m \u001b[0m\u001b[1mConnected to     \u001b[0m\u001b[1m \u001b[0m┃\n",
       "┡━━━━━━━━━━━━━━━━━━━━━╇━━━━━━━━━━━━━━━━━━━╇━━━━━━━━━━━━╇━━━━━━━━━━━━━━━━━━━┩\n",
       "│ Input_Sequence      │ (\u001b[38;5;45mNone\u001b[0m, \u001b[38;5;34m30\u001b[0m, \u001b[38;5;34m37\u001b[0m)    │          \u001b[38;5;34m0\u001b[0m │ -                 │\n",
       "│ (\u001b[38;5;33mInputLayer\u001b[0m)        │                   │            │                   │\n",
       "├─────────────────────┼───────────────────┼────────────┼───────────────────┤\n",
       "│ s0 (\u001b[38;5;33mInputLayer\u001b[0m)     │ (\u001b[38;5;45mNone\u001b[0m, \u001b[38;5;34m64\u001b[0m)        │          \u001b[38;5;34m0\u001b[0m │ -                 │\n",
       "├─────────────────────┼───────────────────┼────────────┼───────────────────┤\n",
       "│ BiLSTM              │ (\u001b[38;5;45mNone\u001b[0m, \u001b[38;5;34m30\u001b[0m, \u001b[38;5;34m64\u001b[0m)    │     \u001b[38;5;34m17,920\u001b[0m │ Input_Sequence[\u001b[38;5;34m0\u001b[0m… │\n",
       "│ (\u001b[38;5;33mBidirectional\u001b[0m)     │                   │            │                   │\n",
       "├─────────────────────┼───────────────────┼────────────┼───────────────────┤\n",
       "│ repeat_vector       │ (\u001b[38;5;45mNone\u001b[0m, \u001b[38;5;34m30\u001b[0m, \u001b[38;5;34m64\u001b[0m)    │          \u001b[38;5;34m0\u001b[0m │ s0[\u001b[38;5;34m0\u001b[0m][\u001b[38;5;34m0\u001b[0m],         │\n",
       "│ (\u001b[38;5;33mRepeatVector\u001b[0m)      │                   │            │ lstm_1[\u001b[38;5;34m180\u001b[0m][\u001b[38;5;34m0\u001b[0m],   │\n",
       "│                     │                   │            │ lstm_1[\u001b[38;5;34m181\u001b[0m][\u001b[38;5;34m0\u001b[0m],   │\n",
       "│                     │                   │            │ lstm_1[\u001b[38;5;34m182\u001b[0m][\u001b[38;5;34m0\u001b[0m],   │\n",
       "│                     │                   │            │ lstm_1[\u001b[38;5;34m183\u001b[0m][\u001b[38;5;34m0\u001b[0m],   │\n",
       "│                     │                   │            │ lstm_1[\u001b[38;5;34m184\u001b[0m][\u001b[38;5;34m0\u001b[0m],   │\n",
       "│                     │                   │            │ lstm_1[\u001b[38;5;34m185\u001b[0m][\u001b[38;5;34m0\u001b[0m],   │\n",
       "│                     │                   │            │ lstm_1[\u001b[38;5;34m186\u001b[0m][\u001b[38;5;34m0\u001b[0m],   │\n",
       "│                     │                   │            │ lstm_1[\u001b[38;5;34m187\u001b[0m][\u001b[38;5;34m0\u001b[0m],   │\n",
       "│                     │                   │            │ lstm_1[\u001b[38;5;34m188\u001b[0m][\u001b[38;5;34m0\u001b[0m]    │\n",
       "├─────────────────────┼───────────────────┼────────────┼───────────────────┤\n",
       "│ concatenate         │ (\u001b[38;5;45mNone\u001b[0m, \u001b[38;5;34m30\u001b[0m, \u001b[38;5;34m128\u001b[0m)   │          \u001b[38;5;34m0\u001b[0m │ BiLSTM[\u001b[38;5;34m0\u001b[0m][\u001b[38;5;34m0\u001b[0m],     │\n",
       "│ (\u001b[38;5;33mConcatenate\u001b[0m)       │                   │            │ repeat_vector[\u001b[38;5;34m18…\u001b[0m │\n",
       "│                     │                   │            │ BiLSTM[\u001b[38;5;34m0\u001b[0m][\u001b[38;5;34m0\u001b[0m],     │\n",
       "│                     │                   │            │ repeat_vector[\u001b[38;5;34m18…\u001b[0m │\n",
       "│                     │                   │            │ BiLSTM[\u001b[38;5;34m0\u001b[0m][\u001b[38;5;34m0\u001b[0m],     │\n",
       "│                     │                   │            │ repeat_vector[\u001b[38;5;34m18…\u001b[0m │\n",
       "│                     │                   │            │ BiLSTM[\u001b[38;5;34m0\u001b[0m][\u001b[38;5;34m0\u001b[0m],     │\n",
       "│                     │                   │            │ repeat_vector[\u001b[38;5;34m18…\u001b[0m │\n",
       "│                     │                   │            │ BiLSTM[\u001b[38;5;34m0\u001b[0m][\u001b[38;5;34m0\u001b[0m],     │\n",
       "│                     │                   │            │ repeat_vector[\u001b[38;5;34m18…\u001b[0m │\n",
       "│                     │                   │            │ BiLSTM[\u001b[38;5;34m0\u001b[0m][\u001b[38;5;34m0\u001b[0m],     │\n",
       "│                     │                   │            │ repeat_vector[\u001b[38;5;34m18…\u001b[0m │\n",
       "│                     │                   │            │ BiLSTM[\u001b[38;5;34m0\u001b[0m][\u001b[38;5;34m0\u001b[0m],     │\n",
       "│                     │                   │            │ repeat_vector[\u001b[38;5;34m18…\u001b[0m │\n",
       "│                     │                   │            │ BiLSTM[\u001b[38;5;34m0\u001b[0m][\u001b[38;5;34m0\u001b[0m],     │\n",
       "│                     │                   │            │ repeat_vector[\u001b[38;5;34m18…\u001b[0m │\n",
       "│                     │                   │            │ BiLSTM[\u001b[38;5;34m0\u001b[0m][\u001b[38;5;34m0\u001b[0m],     │\n",
       "│                     │                   │            │ repeat_vector[\u001b[38;5;34m18…\u001b[0m │\n",
       "│                     │                   │            │ BiLSTM[\u001b[38;5;34m0\u001b[0m][\u001b[38;5;34m0\u001b[0m],     │\n",
       "│                     │                   │            │ repeat_vector[\u001b[38;5;34m18…\u001b[0m │\n",
       "├─────────────────────┼───────────────────┼────────────┼───────────────────┤\n",
       "│ dense (\u001b[38;5;33mDense\u001b[0m)       │ (\u001b[38;5;45mNone\u001b[0m, \u001b[38;5;34m30\u001b[0m, \u001b[38;5;34m10\u001b[0m)    │      \u001b[38;5;34m1,290\u001b[0m │ concatenate[\u001b[38;5;34m180\u001b[0m]… │\n",
       "│                     │                   │            │ concatenate[\u001b[38;5;34m181\u001b[0m]… │\n",
       "│                     │                   │            │ concatenate[\u001b[38;5;34m182\u001b[0m]… │\n",
       "│                     │                   │            │ concatenate[\u001b[38;5;34m183\u001b[0m]… │\n",
       "│                     │                   │            │ concatenate[\u001b[38;5;34m184\u001b[0m]… │\n",
       "│                     │                   │            │ concatenate[\u001b[38;5;34m185\u001b[0m]… │\n",
       "│                     │                   │            │ concatenate[\u001b[38;5;34m186\u001b[0m]… │\n",
       "│                     │                   │            │ concatenate[\u001b[38;5;34m187\u001b[0m]… │\n",
       "│                     │                   │            │ concatenate[\u001b[38;5;34m188\u001b[0m]… │\n",
       "│                     │                   │            │ concatenate[\u001b[38;5;34m189\u001b[0m]… │\n",
       "├─────────────────────┼───────────────────┼────────────┼───────────────────┤\n",
       "│ dense_1 (\u001b[38;5;33mDense\u001b[0m)     │ (\u001b[38;5;45mNone\u001b[0m, \u001b[38;5;34m30\u001b[0m, \u001b[38;5;34m1\u001b[0m)     │         \u001b[38;5;34m11\u001b[0m │ dense[\u001b[38;5;34m180\u001b[0m][\u001b[38;5;34m0\u001b[0m],    │\n",
       "│                     │                   │            │ dense[\u001b[38;5;34m181\u001b[0m][\u001b[38;5;34m0\u001b[0m],    │\n",
       "│                     │                   │            │ dense[\u001b[38;5;34m182\u001b[0m][\u001b[38;5;34m0\u001b[0m],    │\n",
       "│                     │                   │            │ dense[\u001b[38;5;34m183\u001b[0m][\u001b[38;5;34m0\u001b[0m],    │\n",
       "│                     │                   │            │ dense[\u001b[38;5;34m184\u001b[0m][\u001b[38;5;34m0\u001b[0m],    │\n",
       "│                     │                   │            │ dense[\u001b[38;5;34m185\u001b[0m][\u001b[38;5;34m0\u001b[0m],    │\n",
       "│                     │                   │            │ dense[\u001b[38;5;34m186\u001b[0m][\u001b[38;5;34m0\u001b[0m],    │\n",
       "│                     │                   │            │ dense[\u001b[38;5;34m187\u001b[0m][\u001b[38;5;34m0\u001b[0m],    │\n",
       "│                     │                   │            │ dense[\u001b[38;5;34m188\u001b[0m][\u001b[38;5;34m0\u001b[0m],    │\n",
       "│                     │                   │            │ dense[\u001b[38;5;34m189\u001b[0m][\u001b[38;5;34m0\u001b[0m]     │\n",
       "├─────────────────────┼───────────────────┼────────────┼───────────────────┤\n",
       "│ attention_weights   │ (\u001b[38;5;45mNone\u001b[0m, \u001b[38;5;34m30\u001b[0m, \u001b[38;5;34m1\u001b[0m)     │          \u001b[38;5;34m0\u001b[0m │ dense_1[\u001b[38;5;34m180\u001b[0m][\u001b[38;5;34m0\u001b[0m],  │\n",
       "│ (\u001b[38;5;33mActivation\u001b[0m)        │                   │            │ dense_1[\u001b[38;5;34m181\u001b[0m][\u001b[38;5;34m0\u001b[0m],  │\n",
       "│                     │                   │            │ dense_1[\u001b[38;5;34m182\u001b[0m][\u001b[38;5;34m0\u001b[0m],  │\n",
       "│                     │                   │            │ dense_1[\u001b[38;5;34m183\u001b[0m][\u001b[38;5;34m0\u001b[0m],  │\n",
       "│                     │                   │            │ dense_1[\u001b[38;5;34m184\u001b[0m][\u001b[38;5;34m0\u001b[0m],  │\n",
       "│                     │                   │            │ dense_1[\u001b[38;5;34m185\u001b[0m][\u001b[38;5;34m0\u001b[0m],  │\n",
       "│                     │                   │            │ dense_1[\u001b[38;5;34m186\u001b[0m][\u001b[38;5;34m0\u001b[0m],  │\n",
       "│                     │                   │            │ dense_1[\u001b[38;5;34m187\u001b[0m][\u001b[38;5;34m0\u001b[0m],  │\n",
       "│                     │                   │            │ dense_1[\u001b[38;5;34m188\u001b[0m][\u001b[38;5;34m0\u001b[0m],  │\n",
       "│                     │                   │            │ dense_1[\u001b[38;5;34m189\u001b[0m][\u001b[38;5;34m0\u001b[0m]   │\n",
       "├─────────────────────┼───────────────────┼────────────┼───────────────────┤\n",
       "│ dot (\u001b[38;5;33mDot\u001b[0m)           │ (\u001b[38;5;45mNone\u001b[0m, \u001b[38;5;34m1\u001b[0m, \u001b[38;5;34m64\u001b[0m)     │          \u001b[38;5;34m0\u001b[0m │ attention_weight… │\n",
       "│                     │                   │            │ BiLSTM[\u001b[38;5;34m0\u001b[0m][\u001b[38;5;34m0\u001b[0m],     │\n",
       "│                     │                   │            │ attention_weight… │\n",
       "│                     │                   │            │ BiLSTM[\u001b[38;5;34m0\u001b[0m][\u001b[38;5;34m0\u001b[0m],     │\n",
       "│                     │                   │            │ attention_weight… │\n",
       "│                     │                   │            │ BiLSTM[\u001b[38;5;34m0\u001b[0m][\u001b[38;5;34m0\u001b[0m],     │\n",
       "│                     │                   │            │ attention_weight… │\n",
       "│                     │                   │            │ BiLSTM[\u001b[38;5;34m0\u001b[0m][\u001b[38;5;34m0\u001b[0m],     │\n",
       "│                     │                   │            │ attention_weight… │\n",
       "│                     │                   │            │ BiLSTM[\u001b[38;5;34m0\u001b[0m][\u001b[38;5;34m0\u001b[0m],     │\n",
       "│                     │                   │            │ attention_weight… │\n",
       "│                     │                   │            │ BiLSTM[\u001b[38;5;34m0\u001b[0m][\u001b[38;5;34m0\u001b[0m],     │\n",
       "│                     │                   │            │ attention_weight… │\n",
       "│                     │                   │            │ BiLSTM[\u001b[38;5;34m0\u001b[0m][\u001b[38;5;34m0\u001b[0m],     │\n",
       "│                     │                   │            │ attention_weight… │\n",
       "│                     │                   │            │ BiLSTM[\u001b[38;5;34m0\u001b[0m][\u001b[38;5;34m0\u001b[0m],     │\n",
       "│                     │                   │            │ attention_weight… │\n",
       "│                     │                   │            │ BiLSTM[\u001b[38;5;34m0\u001b[0m][\u001b[38;5;34m0\u001b[0m],     │\n",
       "│                     │                   │            │ attention_weight… │\n",
       "│                     │                   │            │ BiLSTM[\u001b[38;5;34m0\u001b[0m][\u001b[38;5;34m0\u001b[0m]      │\n",
       "├─────────────────────┼───────────────────┼────────────┼───────────────────┤\n",
       "│ c0 (\u001b[38;5;33mInputLayer\u001b[0m)     │ (\u001b[38;5;45mNone\u001b[0m, \u001b[38;5;34m64\u001b[0m)        │          \u001b[38;5;34m0\u001b[0m │ -                 │\n",
       "├─────────────────────┼───────────────────┼────────────┼───────────────────┤\n",
       "│ lstm_1 (\u001b[38;5;33mLSTM\u001b[0m)       │ [(\u001b[38;5;45mNone\u001b[0m, \u001b[38;5;34m64\u001b[0m),      │     \u001b[38;5;34m33,024\u001b[0m │ dot[\u001b[38;5;34m180\u001b[0m][\u001b[38;5;34m0\u001b[0m],      │\n",
       "│                     │ (\u001b[38;5;45mNone\u001b[0m, \u001b[38;5;34m64\u001b[0m),       │            │ s0[\u001b[38;5;34m0\u001b[0m][\u001b[38;5;34m0\u001b[0m],         │\n",
       "│                     │ (\u001b[38;5;45mNone\u001b[0m, \u001b[38;5;34m64\u001b[0m)]       │            │ c0[\u001b[38;5;34m0\u001b[0m][\u001b[38;5;34m0\u001b[0m],         │\n",
       "│                     │                   │            │ dot[\u001b[38;5;34m181\u001b[0m][\u001b[38;5;34m0\u001b[0m],      │\n",
       "│                     │                   │            │ lstm_1[\u001b[38;5;34m180\u001b[0m][\u001b[38;5;34m0\u001b[0m],   │\n",
       "│                     │                   │            │ lstm_1[\u001b[38;5;34m180\u001b[0m][\u001b[38;5;34m2\u001b[0m],   │\n",
       "│                     │                   │            │ dot[\u001b[38;5;34m182\u001b[0m][\u001b[38;5;34m0\u001b[0m],      │\n",
       "│                     │                   │            │ lstm_1[\u001b[38;5;34m181\u001b[0m][\u001b[38;5;34m0\u001b[0m],   │\n",
       "│                     │                   │            │ lstm_1[\u001b[38;5;34m181\u001b[0m][\u001b[38;5;34m2\u001b[0m],   │\n",
       "│                     │                   │            │ dot[\u001b[38;5;34m183\u001b[0m][\u001b[38;5;34m0\u001b[0m],      │\n",
       "│                     │                   │            │ lstm_1[\u001b[38;5;34m182\u001b[0m][\u001b[38;5;34m0\u001b[0m],   │\n",
       "│                     │                   │            │ lstm_1[\u001b[38;5;34m182\u001b[0m][\u001b[38;5;34m2\u001b[0m],   │\n",
       "│                     │                   │            │ dot[\u001b[38;5;34m184\u001b[0m][\u001b[38;5;34m0\u001b[0m],      │\n",
       "│                     │                   │            │ lstm_1[\u001b[38;5;34m183\u001b[0m][\u001b[38;5;34m0\u001b[0m],   │\n",
       "│                     │                   │            │ lstm_1[\u001b[38;5;34m183\u001b[0m][\u001b[38;5;34m2\u001b[0m],   │\n",
       "│                     │                   │            │ dot[\u001b[38;5;34m185\u001b[0m][\u001b[38;5;34m0\u001b[0m],      │\n",
       "│                     │                   │            │ lstm_1[\u001b[38;5;34m184\u001b[0m][\u001b[38;5;34m0\u001b[0m],   │\n",
       "│                     │                   │            │ lstm_1[\u001b[38;5;34m184\u001b[0m][\u001b[38;5;34m2\u001b[0m],   │\n",
       "│                     │                   │            │ dot[\u001b[38;5;34m186\u001b[0m][\u001b[38;5;34m0\u001b[0m],      │\n",
       "│                     │                   │            │ lstm_1[\u001b[38;5;34m185\u001b[0m][\u001b[38;5;34m0\u001b[0m],   │\n",
       "│                     │                   │            │ lstm_1[\u001b[38;5;34m185\u001b[0m][\u001b[38;5;34m2\u001b[0m],   │\n",
       "│                     │                   │            │ dot[\u001b[38;5;34m187\u001b[0m][\u001b[38;5;34m0\u001b[0m],      │\n",
       "│                     │                   │            │ lstm_1[\u001b[38;5;34m186\u001b[0m][\u001b[38;5;34m0\u001b[0m],   │\n",
       "│                     │                   │            │ lstm_1[\u001b[38;5;34m186\u001b[0m][\u001b[38;5;34m2\u001b[0m],   │\n",
       "│                     │                   │            │ dot[\u001b[38;5;34m188\u001b[0m][\u001b[38;5;34m0\u001b[0m],      │\n",
       "│                     │                   │            │ lstm_1[\u001b[38;5;34m187\u001b[0m][\u001b[38;5;34m0\u001b[0m],   │\n",
       "│                     │                   │            │ lstm_1[\u001b[38;5;34m187\u001b[0m][\u001b[38;5;34m2\u001b[0m],   │\n",
       "│                     │                   │            │ dot[\u001b[38;5;34m189\u001b[0m][\u001b[38;5;34m0\u001b[0m],      │\n",
       "│                     │                   │            │ lstm_1[\u001b[38;5;34m188\u001b[0m][\u001b[38;5;34m0\u001b[0m],   │\n",
       "│                     │                   │            │ lstm_1[\u001b[38;5;34m188\u001b[0m][\u001b[38;5;34m2\u001b[0m]    │\n",
       "├─────────────────────┼───────────────────┼────────────┼───────────────────┤\n",
       "│ dense_3 (\u001b[38;5;33mDense\u001b[0m)     │ (\u001b[38;5;45mNone\u001b[0m, \u001b[38;5;34m11\u001b[0m)        │        \u001b[38;5;34m715\u001b[0m │ lstm_1[\u001b[38;5;34m180\u001b[0m][\u001b[38;5;34m0\u001b[0m],   │\n",
       "│                     │                   │            │ lstm_1[\u001b[38;5;34m181\u001b[0m][\u001b[38;5;34m0\u001b[0m],   │\n",
       "│                     │                   │            │ lstm_1[\u001b[38;5;34m182\u001b[0m][\u001b[38;5;34m0\u001b[0m],   │\n",
       "│                     │                   │            │ lstm_1[\u001b[38;5;34m183\u001b[0m][\u001b[38;5;34m0\u001b[0m],   │\n",
       "│                     │                   │            │ lstm_1[\u001b[38;5;34m184\u001b[0m][\u001b[38;5;34m0\u001b[0m],   │\n",
       "│                     │                   │            │ lstm_1[\u001b[38;5;34m185\u001b[0m][\u001b[38;5;34m0\u001b[0m],   │\n",
       "│                     │                   │            │ lstm_1[\u001b[38;5;34m186\u001b[0m][\u001b[38;5;34m0\u001b[0m],   │\n",
       "│                     │                   │            │ lstm_1[\u001b[38;5;34m187\u001b[0m][\u001b[38;5;34m0\u001b[0m],   │\n",
       "│                     │                   │            │ lstm_1[\u001b[38;5;34m188\u001b[0m][\u001b[38;5;34m0\u001b[0m],   │\n",
       "│                     │                   │            │ lstm_1[\u001b[38;5;34m189\u001b[0m][\u001b[38;5;34m0\u001b[0m]    │\n",
       "└─────────────────────┴───────────────────┴────────────┴───────────────────┘\n"
      ]
     },
     "metadata": {},
     "output_type": "display_data"
    },
    {
     "data": {
      "text/html": [
       "<pre style=\"white-space:pre;overflow-x:auto;line-height:normal;font-family:Menlo,'DejaVu Sans Mono',consolas,'Courier New',monospace\"><span style=\"font-weight: bold\"> Total params: </span><span style=\"color: #00af00; text-decoration-color: #00af00\">158,881</span> (620.63 KB)\n",
       "</pre>\n"
      ],
      "text/plain": [
       "\u001b[1m Total params: \u001b[0m\u001b[38;5;34m158,881\u001b[0m (620.63 KB)\n"
      ]
     },
     "metadata": {},
     "output_type": "display_data"
    },
    {
     "data": {
      "text/html": [
       "<pre style=\"white-space:pre;overflow-x:auto;line-height:normal;font-family:Menlo,'DejaVu Sans Mono',consolas,'Courier New',monospace\"><span style=\"font-weight: bold\"> Trainable params: </span><span style=\"color: #00af00; text-decoration-color: #00af00\">52,960</span> (206.88 KB)\n",
       "</pre>\n"
      ],
      "text/plain": [
       "\u001b[1m Trainable params: \u001b[0m\u001b[38;5;34m52,960\u001b[0m (206.88 KB)\n"
      ]
     },
     "metadata": {},
     "output_type": "display_data"
    },
    {
     "data": {
      "text/html": [
       "<pre style=\"white-space:pre;overflow-x:auto;line-height:normal;font-family:Menlo,'DejaVu Sans Mono',consolas,'Courier New',monospace\"><span style=\"font-weight: bold\"> Non-trainable params: </span><span style=\"color: #00af00; text-decoration-color: #00af00\">0</span> (0.00 B)\n",
       "</pre>\n"
      ],
      "text/plain": [
       "\u001b[1m Non-trainable params: \u001b[0m\u001b[38;5;34m0\u001b[0m (0.00 B)\n"
      ]
     },
     "metadata": {},
     "output_type": "display_data"
    },
    {
     "data": {
      "text/html": [
       "<pre style=\"white-space:pre;overflow-x:auto;line-height:normal;font-family:Menlo,'DejaVu Sans Mono',consolas,'Courier New',monospace\"><span style=\"font-weight: bold\"> Optimizer params: </span><span style=\"color: #00af00; text-decoration-color: #00af00\">105,921</span> (413.76 KB)\n",
       "</pre>\n"
      ],
      "text/plain": [
       "\u001b[1m Optimizer params: \u001b[0m\u001b[38;5;34m105,921\u001b[0m (413.76 KB)\n"
      ]
     },
     "metadata": {},
     "output_type": "display_data"
    }
   ],
   "source": [
    "model.summary()"
   ]
  },
  {
   "cell_type": "markdown",
   "metadata": {},
   "source": [
    "Navigate through the output of `model.summary()` to observe the details of the model architecture. In particular, note that the layer named `attention_weights` outputs the attention values, denoted as $\\alpha$, with a shape of $(m, 30, 1)$. These attention weights are computed before the `dot_2` layer, which generates the context vector for each time step $t = 0, \\ldots, T_y-1$. We will extract the attention weights from this layer for further analysis.\n",
    "\n",
    "The function `attention_map()` is designed to extract the attention values from the model and visualize them through a plot."
   ]
  },
  {
   "cell_type": "code",
   "execution_count": 66,
   "metadata": {},
   "outputs": [
    {
     "name": "stdout",
     "output_type": "stream",
     "text": [
      "\u001b[1m1/1\u001b[0m \u001b[32m━━━━━━━━━━━━━━━━━━━━\u001b[0m\u001b[37m\u001b[0m \u001b[1m0s\u001b[0m 27ms/step\n"
     ]
    },
    {
     "data": {
      "text/plain": [
       "<Figure size 640x480 with 0 Axes>"
      ]
     },
     "metadata": {},
     "output_type": "display_data"
    },
    {
     "data": {
      "image/png": "[encoded data removed]",
      "text/plain": [
       "<Figure size 800x850 with 2 Axes>"
      ]
     },
     "metadata": {},
     "output_type": "display_data"
    }
   ],
   "source": [
    "attention_map = plot_attention_map(model, human_vocab, inv_machine_vocab, \"Tuesday 09 Oct 1993\", num = 7, n_s = 64);"
   ]
  },
  {
   "cell_type": "markdown",
   "metadata": {},
   "source": [
    "In the generated plot, the attention weights for each character of the predicted output are visualized. It is important to examine this plot and verify that the areas where the network is focusing align with our expectations.\n",
    "\n",
    "In the context of the date translation task, we observe that the attention mechanism predominantly aids in predicting the year, while having less impact on the prediction of the day or month. This behavior is typical, as the year often requires greater attention to specific input features, whereas the day and month are more straightforwardly derived from the input.\n"
   ]
  },
  {
   "cell_type": "markdown",
   "metadata": {},
   "source": [
    "<a id=\"7\"></a>\n",
    "<h1 style=\"background: #FFC07F; border: 0; color: #2F2E41; \n",
    "    box-shadow: 4px 4px 8px rgba(0, 0, 0, 0.3); \n",
    "    padding: 10px; border-radius: 10px; margin: 15px 0;\">\n",
    "    <center style=\"color: #2F2E41;\">7. Conclusion</center>\n",
    "</h1>"
   ]
  },
  {
   "cell_type": "markdown",
   "metadata": {},
   "source": [
    "We have successfully completed this project. We are now able to implement an attention model and use it to learn complex mappings from one sequence to another. \n",
    "\n",
    "## Key Takeaways\n",
    "\n",
    "- Machine translation models can be employed to map one sequence to another. These models are versatile and can be applied not only for tasks like translating between languages (e.g., French to English) but also for specialized applications such as date format translation.\n",
    "- The attention mechanism enables a network to focus on the most relevant parts of the input when generating a specific part of the output. This allows the model to selectively attend to important features in the input sequence.\n",
    "- A network utilizing an attention mechanism can translate sequences where the input length, $T_x$, and output length, $T_y$, can vary. This flexibility is crucial for handling a wide range of tasks.\n",
    "- The attention weights, $\\alpha^{\\langle t,t' \\rangle}$, can be visualized to understand which parts of the input the network attends to while generating each output, providing valuable insight into the model's decision-making process.\n"
   ]
  },
  {
   "cell_type": "code",
   "execution_count": null,
   "metadata": {},
   "outputs": [],
   "source": []
  }
 ],
 "metadata": {
  "colab": {
   "collapsed_sections": [],
   "name": "Solution_Neural_machine_translation_with_attention_v4a.ipynb",
   "provenance": []
  },
  "coursera": {
   "schema_names": [
    "DLSC5W3-1A"
   ]
  },
  "kernelspec": {
   "display_name": "Python 3",
   "language": "python",
   "name": "python3"
  },
  "language_info": {
   "codemirror_mode": {
    "name": "ipython",
    "version": 3
   },
   "file_extension": ".py",
   "mimetype": "text/x-python",
   "name": "python",
   "nbconvert_exporter": "python",
   "pygments_lexer": "ipython3",
   "version": "3.11.9"
  }
 },
 "nbformat": 4,
 "nbformat_minor": 1
}
